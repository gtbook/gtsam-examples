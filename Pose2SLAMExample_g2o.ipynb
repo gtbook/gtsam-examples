{
 "cells": [
  {
   "cell_type": "markdown",
   "id": "4fa834f8",
   "metadata": {},
   "source": [
    "# Pose2 SLAM with g2o Files\n",
    "\n",
    "The example below is a Pose SLAM example that reads from \"g2o\" files:"
   ]
  },
  {
   "cell_type": "code",
   "execution_count": 8,
   "id": "a4998929",
   "metadata": {},
   "outputs": [
    {
     "name": "stdout",
     "output_type": "stream",
     "text": [
      "Note: you may need to restart the kernel to use updated packages.\n"
     ]
    }
   ],
   "source": [
    "%pip -q install gtsam==4.2a5"
   ]
  },
  {
   "cell_type": "code",
   "execution_count": 1,
   "id": "36947065",
   "metadata": {},
   "outputs": [],
   "source": [
    "import gtsam\n",
    "import matplotlib.pyplot as plt\n",
    "from gtsam.utils import plot"
   ]
  },
  {
   "cell_type": "markdown",
   "id": "b2f11570",
   "metadata": {},
   "source": [
    "Set some parameters:"
   ]
  },
  {
   "cell_type": "code",
   "execution_count": 2,
   "id": "dc78fb27",
   "metadata": {},
   "outputs": [],
   "source": [
    "maxIterations = 100"
   ]
  },
  {
   "cell_type": "markdown",
   "id": "48722579",
   "metadata": {},
   "source": [
    "Read the file:"
   ]
  },
  {
   "cell_type": "code",
   "execution_count": 3,
   "id": "fe146635",
   "metadata": {},
   "outputs": [],
   "source": [
    "g2oFile = gtsam.findExampleDataFile(\"noisyToyGraph.txt\")\n",
    "graph, initial = gtsam.readG2o(g2oFile, is3D=False)"
   ]
  },
  {
   "cell_type": "markdown",
   "id": "81d31867",
   "metadata": {},
   "source": [
    "Add prior on the pose having index (key) = 0"
   ]
  },
  {
   "cell_type": "code",
   "execution_count": 4,
   "id": "b944930a",
   "metadata": {},
   "outputs": [],
   "source": [
    "priorModel = gtsam.noiseModel.Diagonal.Variances(\n",
    "    gtsam.Point3(1e-6, 1e-6, 1e-8))\n",
    "graph.add(gtsam.PriorFactorPose2(0, gtsam.Pose2(), priorModel))"
   ]
  },
  {
   "cell_type": "markdown",
   "id": "d2cf9b91",
   "metadata": {},
   "source": [
    "Create Gauss-Newton optimizer and optimize:"
   ]
  },
  {
   "cell_type": "code",
   "execution_count": 5,
   "id": "4bf3feb9",
   "metadata": {},
   "outputs": [
    {
     "name": "stdout",
     "output_type": "stream",
     "text": [
      "Optimization complete\n",
      "initial error =  0.3916375099488787\n",
      "final error =  0.06850346649982364\n",
      "Warning:  stopping nonlinear iterations because error increased\n",
      "errorThreshold: 0.0685035 <? 0\n",
      "absoluteDecrease: -2.28853697639e-05 <? 1e-05\n",
      "relativeDecrease: -0.000334187727181 <? 1e-05\n",
      "iterations: 3 >? 100\n"
     ]
    }
   ],
   "source": [
    "params = gtsam.GaussNewtonParams()\n",
    "params.setVerbosity(\"Termination\")\n",
    "params.setMaxIterations(maxIterations)\n",
    "# parameters.setRelativeErrorTol(1e-5)\n",
    "# Create the optimizer ...\n",
    "optimizer = gtsam.GaussNewtonOptimizer(graph, initial, params)\n",
    "# ... and optimize\n",
    "result = optimizer.optimize()\n",
    "\n",
    "print(\"Optimization complete\")\n",
    "print(\"initial error = \", graph.error(initial))\n",
    "print(\"final error = \", graph.error(result))"
   ]
  },
  {
   "cell_type": "code",
   "execution_count": 6,
   "id": "8508d7e1",
   "metadata": {},
   "outputs": [
    {
     "name": "stdout",
     "output_type": "stream",
     "text": [
      "\n",
      "Factor Graph:\n",
      "NonlinearFactorGraph: size: 6\n",
      "\n",
      "Factor 0: BetweenFactor(0,1)\n",
      "  measured:  (0.774115, 1.183389, 1.576173)\n",
      "  noise model: unit (3) \n",
      "\n",
      "Factor 1: BetweenFactor(1,2)\n",
      "  measured:  (0.869231, 1.031877, 1.579418)\n",
      "  noise model: unit (3) \n",
      "\n",
      "Factor 2: BetweenFactor(2,3)\n",
      "  measured:  (1.35784, 1.034262, 1.56646)\n",
      "  noise model: unit (3) \n",
      "\n",
      "Factor 3: BetweenFactor(2,0)\n",
      "  measured:  (0.303492, 1.865011, -3.113898)\n",
      "  noise model: unit (3) \n",
      "\n",
      "Factor 4: BetweenFactor(0,3)\n",
      "  measured:  (-0.928526, 0.993695, -1.563542)\n",
      "  noise model: unit (3) \n",
      "\n",
      "Factor 5: PriorFactor on 0\n",
      "  prior mean:  (0, 0, 0)\n",
      "  noise model: diagonal sigmas [0.001; 0.001; 0.0001];\n",
      "\n",
      "\n",
      "\n",
      "Initial Estimate:\n",
      "Values with 4 values:\n",
      "Value 0: (gtsam::Pose2)\n",
      "(0, 0, 0)\n",
      "\n",
      "Value 1: (gtsam::Pose2)\n",
      "(0.774115, 1.183389, 1.576173)\n",
      "\n",
      "Value 2: (gtsam::Pose2)\n",
      "(-0.26242, 2.047059, -3.127594)\n",
      "\n",
      "Value 3: (gtsam::Pose2)\n",
      "(-1.605649, 0.993891, -1.561134)\n",
      "\n",
      "\n",
      "Final Result:\n",
      "Values with 4 values:\n",
      "Value 0: (gtsam::Pose2)\n",
      "(-7.17032659e-23, 8.60267581e-24, 7.6514202e-25)\n",
      "\n",
      "Value 1: (gtsam::Pose2)\n",
      "(0.95617894, 1.14319823, 1.54150027)\n",
      "\n",
      "Value 2: (gtsam::Pose2)\n",
      "(0.126611466, 1.98179453, -3.08397402)\n",
      "\n",
      "Value 3: (gtsam::Pose2)\n",
      "(-1.05038303, 0.935131621, -1.54052801)\n",
      "\n",
      "\n"
     ]
    }
   ],
   "source": [
    "print(\"\\nFactor Graph:\\n{}\".format(graph))\n",
    "print(\"\\nInitial Estimate:\\n{}\".format(initial))\n",
    "print(\"Final Result:\\n{}\".format(result))"
   ]
  },
  {
   "cell_type": "code",
   "execution_count": 7,
   "id": "d0af71d8",
   "metadata": {},
   "outputs": [
    {
     "data": {
      "image/png": "[encoded data removed]",
      "text/plain": [
       "<Figure size 432x288 with 1 Axes>"
      ]
     },
     "metadata": {
      "needs_background": "light"
     },
     "output_type": "display_data"
    }
   ],
   "source": [
    "resultPoses = gtsam.utilities.extractPose2(result)\n",
    "for i in range(resultPoses.shape[0]):\n",
    "    plot.plot_pose2(1, gtsam.Pose2(resultPoses[i, :]))\n",
    "plt.show()"
   ]
  },
  {
   "cell_type": "code",
   "execution_count": null,
   "id": "287431d9",
   "metadata": {},
   "outputs": [],
   "source": []
  }
 ],
 "metadata": {
  "interpreter": {
   "hash": "341996cd3f3db7b5e0d1eaea072c5502d80452314e72e6b77c40445f6e9ba101"
  },
  "kernelspec": {
   "display_name": "Python 3.8.12 ('nbdev')",
   "language": "python",
   "name": "python3"
  },
  "language_info": {
   "codemirror_mode": {
    "name": "ipython",
    "version": 3
   },
   "file_extension": ".py",
   "mimetype": "text/x-python",
   "name": "python",
   "nbconvert_exporter": "python",
   "pygments_lexer": "ipython3",
   "version": "3.8.12"
  }
 },
 "nbformat": 4,
 "nbformat_minor": 5
}
