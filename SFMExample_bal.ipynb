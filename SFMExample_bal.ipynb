{
 "cells": [
  {
   "cell_type": "markdown",
   "id": "a6bc7c57",
   "metadata": {},
   "source": [
    "# SFM with BAL Files\n",
    "\n",
    "This is an SFM Example that reads from a BAL (Bundle Adjustment in the Large) file."
   ]
  },
  {
   "cell_type": "code",
   "execution_count": 1,
   "id": "2ce38c72",
   "metadata": {},
   "outputs": [
    {
     "name": "stdout",
     "output_type": "stream",
     "text": [
      "Note: you may need to restart the kernel to use updated packages.\n"
     ]
    }
   ],
   "source": [
    "%pip -q install gtsam==4.2a5"
   ]
  },
  {
   "cell_type": "code",
   "execution_count": 2,
   "id": "130b0885",
   "metadata": {},
   "outputs": [],
   "source": [
    "import argparse\n",
    "import logging\n",
    "import sys\n",
    "\n",
    "import gtsam\n",
    "from gtsam import (GeneralSFMFactorCal3Bundler,\n",
    "                   PriorFactorPinholeCameraCal3Bundler, PriorFactorPoint3)\n",
    "from gtsam.symbol_shorthand import C, P  # type: ignore\n",
    "from gtsam.utils import plot  # type: ignore\n",
    "from matplotlib import pyplot as plt\n",
    "%matplotlib inline"
   ]
  },
  {
   "cell_type": "code",
   "execution_count": 3,
   "id": "ea6a378e",
   "metadata": {},
   "outputs": [],
   "source": [
    "logging.basicConfig(stream=sys.stdout, level=logging.INFO)"
   ]
  },
  {
   "cell_type": "markdown",
   "id": "ec459c14",
   "metadata": {},
   "source": [
    "Run LM optimization with BAL input data and report resulting error:"
   ]
  },
  {
   "cell_type": "code",
   "execution_count": 4,
   "id": "0586514e",
   "metadata": {},
   "outputs": [
    {
     "name": "stdout",
     "output_type": "stream",
     "text": [
      "INFO:root:read 7 tracks on 3 cameras\n",
      "\n"
     ]
    }
   ],
   "source": [
    "# Load the SfM data from file\n",
    "input_file = gtsam.findExampleDataFile(\"dubrovnik-3-7-pre\")\n",
    "scene_data = gtsam.readBal(input_file)\n",
    "logging.info(\"read %d tracks on %d cameras\\n\", scene_data.numberTracks(),\n",
    "                scene_data.numberCameras())"
   ]
  },
  {
   "cell_type": "code",
   "execution_count": 5,
   "id": "ad00edf4",
   "metadata": {},
   "outputs": [],
   "source": [
    "# Create a factor graph\n",
    "graph = gtsam.NonlinearFactorGraph()\n",
    "\n",
    "# We share *one* noiseModel between all projection factors\n",
    "noise = gtsam.noiseModel.Isotropic.Sigma(2, 1.0)  # one pixel in u and v\n",
    "\n",
    "# Add measurements to the factor graph\n",
    "for j in range(scene_data.numberTracks()):\n",
    "    track = scene_data.track(j)  # SfmTrack\n",
    "    # retrieve the SfmMeasurement objects\n",
    "    for m_idx in range(track.numberMeasurements()):\n",
    "        # i represents the camera index, and uv is the 2d measurement\n",
    "        i, uv = track.measurement(m_idx)\n",
    "        # note use of shorthand symbols C and P\n",
    "        graph.add(GeneralSFMFactorCal3Bundler(uv, noise, C(i), P(j)))\n",
    "\n",
    "# Add a prior on pose x1. This indirectly specifies where the origin is.\n",
    "graph.push_back(\n",
    "    PriorFactorPinholeCameraCal3Bundler(\n",
    "        C(0), scene_data.camera(0),\n",
    "        gtsam.noiseModel.Isotropic.Sigma(9, 0.1)))\n",
    "# Also add a prior on the position of the first landmark to fix the scale\n",
    "graph.push_back(\n",
    "    PriorFactorPoint3(P(0),\n",
    "                      scene_data.track(0).point3(),\n",
    "                      gtsam.noiseModel.Isotropic.Sigma(3, 0.1)))"
   ]
  },
  {
   "cell_type": "code",
   "execution_count": 6,
   "id": "b818e416",
   "metadata": {},
   "outputs": [],
   "source": [
    "# Create initial estimate\n",
    "initial = gtsam.Values()\n",
    "\n",
    "i = 0\n",
    "# add each PinholeCameraCal3Bundler\n",
    "for cam_idx in range(scene_data.numberCameras()):\n",
    "    camera = scene_data.camera(cam_idx)\n",
    "    initial.insert(C(i), camera)\n",
    "    i += 1\n",
    "\n",
    "# add each SfmTrack\n",
    "for j in range(scene_data.numberTracks()):\n",
    "    track = scene_data.track(j)\n",
    "    initial.insert(P(j), track.point3())"
   ]
  },
  {
   "cell_type": "code",
   "execution_count": 7,
   "id": "adbd6d57",
   "metadata": {},
   "outputs": [
    {
     "name": "stdout",
     "output_type": "stream",
     "text": [
      "INFO:root:initial error: 2764.219293\n",
      "INFO:root:final error: 0.046138\n"
     ]
    }
   ],
   "source": [
    "# Optimize the graph and print results\n",
    "try:\n",
    "    params = gtsam.LevenbergMarquardtParams()\n",
    "    params.setVerbosityLM(\"ERROR\")\n",
    "    lm = gtsam.LevenbergMarquardtOptimizer(graph, initial, params)\n",
    "    result = lm.optimize()\n",
    "    # Error drops from ~2764.22 to ~0.046\n",
    "    logging.info(\"initial error: %f\", graph.error(initial))\n",
    "    logging.info(\"final error: %f\", graph.error(result))\n",
    "\n",
    "except RuntimeError:\n",
    "    logging.exception(\"LM Optimization failed\")\n"
   ]
  },
  {
   "cell_type": "markdown",
   "id": "ee2fe836",
   "metadata": {},
   "source": [
    "Plot the SFM results."
   ]
  },
  {
   "cell_type": "code",
   "execution_count": 8,
   "id": "32cfb167",
   "metadata": {},
   "outputs": [
    {
     "data": {
      "image/png": "[encoded data removed]",
      "text/plain": [
       "<Figure size 432x288 with 1 Axes>"
      ]
     },
     "metadata": {
      "needs_background": "light"
     },
     "output_type": "display_data"
    }
   ],
   "source": [
    "plot_vals = gtsam.Values()\n",
    "for cam_idx in range(scene_data.numberCameras()):\n",
    "    plot_vals.insert(C(cam_idx),\n",
    "                        result.atPinholeCameraCal3Bundler(C(cam_idx)).pose())\n",
    "for j in range(scene_data.numberTracks()):\n",
    "    plot_vals.insert(P(j), result.atPoint3(P(j)))\n",
    "\n",
    "plot.plot_3d_points(0, plot_vals, linespec=\"g.\")\n",
    "plot.plot_trajectory(0, plot_vals, title=\"SFM results\")\n",
    "\n",
    "plt.show()"
   ]
  }
 ],
 "metadata": {
  "interpreter": {
   "hash": "341996cd3f3db7b5e0d1eaea072c5502d80452314e72e6b77c40445f6e9ba101"
  },
  "kernelspec": {
   "display_name": "Python 3.8.12 ('nbdev')",
   "language": "python",
   "name": "python3"
  },
  "language_info": {
   "codemirror_mode": {
    "name": "ipython",
    "version": 3
   },
   "file_extension": ".py",
   "mimetype": "text/x-python",
   "name": "python",
   "nbconvert_exporter": "python",
   "pygments_lexer": "ipython3",
   "version": "3.8.12"
  }
 },
 "nbformat": 4,
 "nbformat_minor": 5
}
