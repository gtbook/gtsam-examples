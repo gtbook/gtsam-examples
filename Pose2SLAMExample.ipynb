{
 "cells": [
  {
   "cell_type": "markdown",
   "id": "dc268456",
   "metadata": {},
   "source": [
    "<a href=\"https://colab.research.google.com/github/gtbook/gtsam-examples/blob/main/Pose2SLAMExample.ipynb\" target=\"_parent\"><img src=\"https://colab.research.google.com/assets/colab-badge.svg\" alt=\"Open In Colab\"/></a>"
   ]
  },
  {
   "cell_type": "markdown",
   "id": "23d8e5dc",
   "metadata": {},
   "source": [
    "# Pose2 SLAM\n",
    "\n",
    "A simple way to do Simultaneous Localization and Mapping is to just fuse **relative pose measurements** between successive robot poses. This landmark-less SLAM variant is often called \"Pose SLAM\""
   ]
  },
  {
   "cell_type": "code",
   "execution_count": 16,
   "id": "b411e885",
   "metadata": {},
   "outputs": [
    {
     "name": "stdout",
     "output_type": "stream",
     "text": [
      "Note: you may need to restart the kernel to use updated packages.\n"
     ]
    }
   ],
   "source": [
    "%pip -q install gtbook # also installs latest gtsam pre-release"
   ]
  },
  {
   "cell_type": "code",
   "execution_count": 1,
   "id": "50de8e04",
   "metadata": {},
   "outputs": [],
   "source": [
    "import math\n",
    "\n",
    "import gtsam\n",
    "import gtsam.utils.plot as gtsam_plot\n",
    "import matplotlib.pyplot as plt"
   ]
  },
  {
   "cell_type": "code",
   "execution_count": 2,
   "id": "8a3e738c",
   "metadata": {},
   "outputs": [],
   "source": [
    "PRIOR_NOISE = gtsam.noiseModel.Diagonal.Sigmas(gtsam.Point3(0.3, 0.3, 0.1))\n",
    "ODOMETRY_NOISE = gtsam.noiseModel.Diagonal.Sigmas(\n",
    "    gtsam.Point3(0.2, 0.2, 0.1))"
   ]
  },
  {
   "cell_type": "markdown",
   "id": "61a0af2d",
   "metadata": {},
   "source": [
    "\n",
    "1. Create a factor graph container and add factors to it\n"
   ]
  },
  {
   "cell_type": "code",
   "execution_count": 3,
   "id": "2a886c14",
   "metadata": {},
   "outputs": [],
   "source": [
    "graph = gtsam.NonlinearFactorGraph()"
   ]
  },
  {
   "cell_type": "markdown",
   "id": "19d98400",
   "metadata": {},
   "source": [
    "2a. Add a prior on the first pose, setting it to the origin\n",
    "\n",
    "A prior factor consists of a mean and a noise ODOMETRY_NOISE (covariance matrix)"
   ]
  },
  {
   "cell_type": "code",
   "execution_count": 4,
   "id": "5e8a16f8",
   "metadata": {},
   "outputs": [],
   "source": [
    "graph.add(gtsam.PriorFactorPose2(1, gtsam.Pose2(0, 0, 0), PRIOR_NOISE))"
   ]
  },
  {
   "cell_type": "markdown",
   "id": "b3702aa9",
   "metadata": {},
   "source": [
    "2b. Add odometry factors\n",
    "Create odometry (Between) factors between consecutive poses\n"
   ]
  },
  {
   "cell_type": "code",
   "execution_count": 5,
   "id": "6f364334",
   "metadata": {},
   "outputs": [],
   "source": [
    "graph.add(gtsam.BetweenFactorPose2(1, 2, gtsam.Pose2(2, 0, 0), ODOMETRY_NOISE))\n",
    "graph.add(gtsam.BetweenFactorPose2(2, 3, gtsam.Pose2(2, 0, math.pi / 2), ODOMETRY_NOISE))\n",
    "graph.add(gtsam.BetweenFactorPose2(3, 4, gtsam.Pose2(2, 0, math.pi / 2), ODOMETRY_NOISE))\n",
    "graph.add(gtsam.BetweenFactorPose2(4, 5, gtsam.Pose2(2, 0, math.pi / 2),ODOMETRY_NOISE))\n"
   ]
  },
  {
   "cell_type": "markdown",
   "id": "c8ca6f8c",
   "metadata": {},
   "source": [
    "2c. Add the loop closure constraint\n",
    "This factor encodes the fact that we have returned to the same pose. In real\n",
    "systems, these constraints may be identified in many ways, such as appearance-based\n",
    "techniques with camera images. We will use another Between Factor to enforce this constraint:\n"
   ]
  },
  {
   "cell_type": "code",
   "execution_count": 6,
   "id": "572fd291",
   "metadata": {},
   "outputs": [
    {
     "name": "stdout",
     "output_type": "stream",
     "text": [
      "\n",
      "Factor Graph:\n",
      "NonlinearFactorGraph: size: 6\n",
      "\n",
      "Factor 0: PriorFactor on 1\n",
      "  prior mean:  (0, 0, 0)\n",
      "  noise model: diagonal sigmas [0.3; 0.3; 0.1];\n",
      "\n",
      "Factor 1: BetweenFactor(1,2)\n",
      "  measured:  (2, 0, 0)\n",
      "  noise model: diagonal sigmas [0.2; 0.2; 0.1];\n",
      "\n",
      "Factor 2: BetweenFactor(2,3)\n",
      "  measured:  (2, 0, 1.57079633)\n",
      "  noise model: diagonal sigmas [0.2; 0.2; 0.1];\n",
      "\n",
      "Factor 3: BetweenFactor(3,4)\n",
      "  measured:  (2, 0, 1.57079633)\n",
      "  noise model: diagonal sigmas [0.2; 0.2; 0.1];\n",
      "\n",
      "Factor 4: BetweenFactor(4,5)\n",
      "  measured:  (2, 0, 1.57079633)\n",
      "  noise model: diagonal sigmas [0.2; 0.2; 0.1];\n",
      "\n",
      "Factor 5: BetweenFactor(5,2)\n",
      "  measured:  (2, 0, 1.57079633)\n",
      "  noise model: diagonal sigmas [0.2; 0.2; 0.1];\n",
      "\n",
      "\n"
     ]
    }
   ],
   "source": [
    "graph.add( gtsam.BetweenFactorPose2(5, 2, gtsam.Pose2(2, 0, math.pi / 2), ODOMETRY_NOISE))\n",
    "print(\"\\nFactor Graph:\\n{}\".format(graph))"
   ]
  },
  {
   "cell_type": "markdown",
   "id": "89666b19",
   "metadata": {},
   "source": [
    "3. Create the data structure to hold the initial_estimate estimate to the\n",
    "solution. For illustrative purposes, these have been deliberately set to incorrect values\n"
   ]
  },
  {
   "cell_type": "code",
   "execution_count": 7,
   "id": "5cfc8900",
   "metadata": {},
   "outputs": [
    {
     "name": "stdout",
     "output_type": "stream",
     "text": [
      "\n",
      "Initial Estimate:\n",
      "Values with 5 values:\n",
      "Value 1: (gtsam::Pose2)\n",
      "(0.5, 0, 0.2)\n",
      "\n",
      "Value 2: (gtsam::Pose2)\n",
      "(2.3, 0.1, -0.2)\n",
      "\n",
      "Value 3: (gtsam::Pose2)\n",
      "(4.1, 0.1, 1.57079633)\n",
      "\n",
      "Value 4: (gtsam::Pose2)\n",
      "(4, 2, 3.14159265)\n",
      "\n",
      "Value 5: (gtsam::Pose2)\n",
      "(2.1, 2.1, -1.57079633)\n",
      "\n",
      "\n"
     ]
    }
   ],
   "source": [
    "initial_estimate = gtsam.Values()\n",
    "initial_estimate.insert(1, gtsam.Pose2(0.5, 0.0, 0.2))\n",
    "initial_estimate.insert(2, gtsam.Pose2(2.3, 0.1, -0.2))\n",
    "initial_estimate.insert(3, gtsam.Pose2(4.1, 0.1, math.pi / 2))\n",
    "initial_estimate.insert(4, gtsam.Pose2(4.0, 2.0, math.pi))\n",
    "initial_estimate.insert(5, gtsam.Pose2(2.1, 2.1, -math.pi / 2))\n",
    "print(\"\\nInitial Estimate:\\n{}\".format(initial_estimate))  "
   ]
  },
  {
   "cell_type": "markdown",
   "id": "591abefb",
   "metadata": {},
   "source": [
    "4. Optimize the initial values using a Gauss-Newton nonlinear optimizer\n",
    "The optimizer accepts an optional set of configuration parameters,\n",
    "controlling things like convergence criteria, the type of linear\n",
    "system solver to use, and the amount of information displayed during\n",
    "optimization. We will set a few parameters as a demonstration.\n"
   ]
  },
  {
   "cell_type": "code",
   "execution_count": 8,
   "id": "d3809dde",
   "metadata": {},
   "outputs": [],
   "source": [
    "parameters = gtsam.GaussNewtonParams()"
   ]
  },
  {
   "cell_type": "markdown",
   "id": "b0fce8d1",
   "metadata": {},
   "source": [
    "Stop iterating once the change in error between steps is less than this value\n"
   ]
  },
  {
   "cell_type": "code",
   "execution_count": 9,
   "id": "9e9547ae",
   "metadata": {},
   "outputs": [],
   "source": [
    "parameters.setRelativeErrorTol(1e-5)"
   ]
  },
  {
   "cell_type": "markdown",
   "id": "5d4ac412",
   "metadata": {},
   "source": [
    "Do not perform more than N iteration steps\n"
   ]
  },
  {
   "cell_type": "code",
   "execution_count": 10,
   "id": "fdc1e292",
   "metadata": {},
   "outputs": [],
   "source": [
    "parameters.setMaxIterations(100)"
   ]
  },
  {
   "cell_type": "markdown",
   "id": "cf526e65",
   "metadata": {},
   "source": [
    "Create the optimizer ...\n"
   ]
  },
  {
   "cell_type": "code",
   "execution_count": 11,
   "id": "b187bb8f",
   "metadata": {},
   "outputs": [],
   "source": [
    "optimizer = gtsam.GaussNewtonOptimizer(graph, initial_estimate, parameters)"
   ]
  },
  {
   "cell_type": "markdown",
   "id": "7f1188c3",
   "metadata": {},
   "source": [
    "... and optimize\n"
   ]
  },
  {
   "cell_type": "code",
   "execution_count": 12,
   "id": "5d848f88",
   "metadata": {},
   "outputs": [
    {
     "name": "stdout",
     "output_type": "stream",
     "text": [
      "Final Result:\n",
      "Values with 5 values:\n",
      "Value 1: (gtsam::Pose2)\n",
      "(2.29376924e-21, -4.52805219e-20, -8.15716236e-21)\n",
      "\n",
      "Value 2: (gtsam::Pose2)\n",
      "(2, -8.1719523e-20, -6.25198652e-21)\n",
      "\n",
      "Value 3: (gtsam::Pose2)\n",
      "(4, -3.42174208e-11, 1.57079633)\n",
      "\n",
      "Value 4: (gtsam::Pose2)\n",
      "(4, 2, 3.14159265)\n",
      "\n",
      "Value 5: (gtsam::Pose2)\n",
      "(2, 2, -1.57079633)\n",
      "\n",
      "\n"
     ]
    }
   ],
   "source": [
    "result = optimizer.optimize()\n",
    "print(\"Final Result:\\n{}\".format(result))\n"
   ]
  },
  {
   "cell_type": "markdown",
   "id": "409145ce",
   "metadata": {},
   "source": [
    "5. Calculate and print marginal covariances for all variables\n"
   ]
  },
  {
   "cell_type": "code",
   "execution_count": 14,
   "id": "b2ca423f",
   "metadata": {},
   "outputs": [
    {
     "name": "stdout",
     "output_type": "stream",
     "text": [
      "X1 covariance:\n",
      "[[ 9.00000000e-02  5.29468059e-19 -1.56871840e-18]\n",
      " [ 5.29468059e-19  9.00000000e-02 -6.39488462e-17]\n",
      " [-1.56871840e-18 -6.39488462e-17  1.00000000e-02]]\n",
      "\n",
      "X2 covariance:\n",
      "[[ 1.30000000e-01 -3.42668184e-18 -4.70156651e-18]\n",
      " [-3.42668184e-18  1.70000000e-01  2.00000000e-02]\n",
      " [-4.70156651e-18  2.00000000e-02  2.00000000e-02]]\n",
      "\n",
      "X3 covariance:\n",
      "[[ 3.62000000e-01 -3.29295343e-12  6.20000000e-02]\n",
      " [-3.29295409e-12  1.62000000e-01 -2.00000000e-03]\n",
      " [ 6.20000000e-02 -2.00000000e-03  2.65000000e-02]]\n",
      "\n",
      "X4 covariance:\n",
      "[[ 0.268 -0.128  0.048]\n",
      " [-0.128  0.378 -0.068]\n",
      " [ 0.048 -0.068  0.028]]\n",
      "\n",
      "X5 covariance:\n",
      "[[ 0.202   0.036  -0.018 ]\n",
      " [ 0.036   0.26   -0.051 ]\n",
      " [-0.018  -0.051   0.0265]]\n",
      "\n"
     ]
    }
   ],
   "source": [
    "marginals = gtsam.Marginals(graph, result)\n",
    "for i in range(1, 6):\n",
    "    print(\"X{} covariance:\\n{}\\n\".format(i, marginals.marginalCovariance(i)))"
   ]
  },
  {
   "cell_type": "code",
   "execution_count": 15,
   "id": "c36b8f2d",
   "metadata": {},
   "outputs": [
    {
     "data": {
      "image/png": "[encoded data removed]",
      "text/plain": [
       "<Figure size 432x288 with 1 Axes>"
      ]
     },
     "metadata": {
      "needs_background": "light"
     },
     "output_type": "display_data"
    }
   ],
   "source": [
    "for i in range(1, 6):\n",
    "    gtsam_plot.plot_pose2(0, result.atPose2(i), 0.5,\n",
    "                            marginals.marginalCovariance(i))\n",
    "\n",
    "plt.axis('equal')\n",
    "plt.show()"
   ]
  }
 ],
 "metadata": {
  "interpreter": {
   "hash": "eb6fa735d46fb17535ab2fae1363b5f0bf3cf0002d8c03a0f1f784c03cf9acc5"
  },
  "kernelspec": {
   "display_name": "Python 3.8.12 ('nbdev')",
   "language": "python",
   "name": "python3"
  },
  "language_info": {
   "codemirror_mode": {
    "name": "ipython",
    "version": 3
   },
   "file_extension": ".py",
   "mimetype": "text/x-python",
   "name": "python",
   "nbconvert_exporter": "python",
   "pygments_lexer": "ipython3",
   "version": "3.8.12"
  }
 },
 "nbformat": 4,
 "nbformat_minor": 5
}
