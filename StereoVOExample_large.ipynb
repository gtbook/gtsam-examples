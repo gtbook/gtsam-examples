{
 "cells": [
  {
   "cell_type": "markdown",
   "id": "abdd4aba",
   "metadata": {},
   "source": [
    "<a href=\"https://colab.research.google.com/github/gtbook/gtsam-examples/blob/main/StereoVOExample_large_.ipynb\" target=\"_parent\"><img src=\"https://colab.research.google.com/assets/colab-badge.svg\" alt=\"Open In Colab\"/></a>"
   ]
  },
  {
   "cell_type": "markdown",
   "id": "23d8e5dc",
   "metadata": {},
   "source": [
    "# Stereo Visual Odometry\n",
    "\n",
    "A 3D stereo visual odometry example.\n",
    "\n",
    "  - robot starts at origin\n",
    "  - moves forward, taking periodic stereo measurements\n",
    "  - takes stereo readings of many landmarks"
   ]
  },
  {
   "cell_type": "code",
   "execution_count": 1,
   "metadata": {},
   "outputs": [
    {
     "name": "stdout",
     "output_type": "stream",
     "text": [
      "Note: you may need to restart the kernel to use updated packages.\n"
     ]
    }
   ],
   "source": [
    "%pip -q install gtbook # also installs latest gtsam pre-release"
   ]
  },
  {
   "cell_type": "code",
   "execution_count": 2,
   "metadata": {},
   "outputs": [],
   "source": [
    "import numpy as np\n",
    "import matplotlib.pyplot as plt\n",
    "%matplotlib inline\n",
    "\n",
    "import gtsam\n",
    "from gtsam import noiseModel, Pose3, StereoPoint2, Point3\n",
    "import gtsam.utils.plot as gtsam_plot"
   ]
  },
  {
   "cell_type": "markdown",
   "metadata": {},
   "source": [
    "## Load Stereo Rig Calibration\n",
    "\n",
    "Just a regular pinhole calibration, plus a baseline, which in this case is 54 cm."
   ]
  },
  {
   "cell_type": "code",
   "execution_count": 3,
   "metadata": {},
   "outputs": [
    {
     "name": "stdout",
     "output_type": "stream",
     "text": [
      "focal length ~ 722.0, baseline = 54.0cm\n"
     ]
    }
   ],
   "source": [
    "# read camera calibration info from file\n",
    "# focal lengths fx, fy, skew s, principal point u0, v0, baseline b\n",
    "calibration_loc = gtsam.findExampleDataFile(\"VO_calibration.txt\")\n",
    "fx, fy, s, u0, v0, b =np.loadtxt(calibration_loc)\n",
    "\n",
    "# create stereo camera calibration object\n",
    "K = gtsam.Cal3_S2Stereo(fx, fy, s, u0, v0, b)\n",
    "print(f\"focal length ~ {np.round(fx)}, baseline = {np.round(100*b)}cm\")"
   ]
  },
  {
   "cell_type": "markdown",
   "metadata": {},
   "source": [
    "## Load Camera Poses\n",
    "\n",
    "We already have a very good initial estimate on file..."
   ]
  },
  {
   "cell_type": "code",
   "execution_count": 4,
   "metadata": {},
   "outputs": [],
   "source": [
    "pose_loc = gtsam.findExampleDataFile(\"VO_camera_poses_large.txt\")\n",
    "pose_array = np.loadtxt(pose_loc)\n",
    "initial_estimate = gtsam.Values()\n",
    "for row in pose_array:\n",
    "    initial_estimate.insert(gtsam.symbol('x', int(row[0])), Pose3(row[1:].reshape(4,4)))"
   ]
  },
  {
   "cell_type": "markdown",
   "metadata": {},
   "source": [
    "## Create Factor Graph\n",
    "\n",
    "We have about 8000 measurements, specified in a file as 8 numbers per row:\n",
    "\n",
    "- i, j: pose and landmark indices\n",
    "- uL, uR, v: the stereo measurement\n",
    "- X, Y, Z: an initial estimate for the corresponding point $l_j$, resulting from triangulation"
   ]
  },
  {
   "cell_type": "code",
   "execution_count": 5,
   "metadata": {},
   "outputs": [],
   "source": [
    "factor_loc = gtsam.findExampleDataFile(\"VO_stereo_factors_large.txt\")\n",
    "factor_array = np.loadtxt(factor_loc)\n",
    "\n",
    "graph = gtsam.NonlinearFactorGraph ()\n",
    "model = noiseModel.Isotropic.Sigma(3, 1) # 1 pixel standard deviation\n",
    "for i, j, uL, uR, v, X, Y, Z in factor_array:\n",
    "    measured = StereoPoint2(uL, uR, v)\n",
    "    pose_key, point_key = gtsam.symbol('x', int(i)), gtsam.symbol('l', int(j))\n",
    "    graph.add(gtsam.GenericStereoFactor3D(\n",
    "        measured, model, pose_key, point_key, K))\n",
    "    # if the landmark variable included in this factor has not yet been added\n",
    "    # to the initial variable value estimate, add it\n",
    "    if not initial_estimate.exists(point_key):\n",
    "        wTc = initial_estimate.atPose3(pose_key)\n",
    "        worldPoint = wTc.transformFrom(Point3(X, Y, Z))\n",
    "        initial_estimate.insert(point_key, worldPoint)"
   ]
  },
  {
   "cell_type": "markdown",
   "metadata": {},
   "source": [
    "## Batch Optimization"
   ]
  },
  {
   "cell_type": "markdown",
   "metadata": {},
   "source": [
    "We constrain the first pose such that it cannot change from its original value during optimization.\n",
    "NOTE: NonlinearEquality forces the optimizer to use QR rather than Cholesky QR is much slower than Cholesky, but numerically more stable."
   ]
  },
  {
   "cell_type": "code",
   "execution_count": 6,
   "metadata": {},
   "outputs": [],
   "source": [
    "first_pose = initial_estimate.atPose3(gtsam.symbol('x', 1))\n",
    "graph.add(gtsam.NonlinearEqualityPose3(gtsam.symbol('x', 1), first_pose))\n",
    "\n",
    "# create Levenberg-Marquardt optimizer to optimize the factor graph\n",
    "params = gtsam.LevenbergMarquardtParams()\n",
    "params.setOrderingType(\"METIS\")\n",
    "optimizer = gtsam.LevenbergMarquardtOptimizer(graph, initial_estimate, params)\n",
    "result = optimizer.optimize()"
   ]
  },
  {
   "cell_type": "markdown",
   "metadata": {},
   "source": [
    "Let us bring the first 3 poses:"
   ]
  },
  {
   "cell_type": "code",
   "execution_count": 9,
   "metadata": {},
   "outputs": [
    {
     "name": "stdout",
     "output_type": "stream",
     "text": [
      "R: [\n",
      "\t1, 0, 0;\n",
      "\t0, 1, 0;\n",
      "\t0, 0, 1\n",
      "]\n",
      "t: 0 0 0\n",
      "\n",
      "R: [\n",
      "\t0.999997, -0.00234524, 0.000667659;\n",
      "\t0.00234572, 0.999997, -0.000714904;\n",
      "\t-0.000665981, 0.000716469, 1\n",
      "]\n",
      "t: 0.00254935 0.00430119   0.959176\n",
      "\n",
      "R: [\n",
      "\t0.999993, -0.00363586, 0.000733503;\n",
      "\t0.00363353, 0.999988, 0.00316275;\n",
      "\t-0.000744993, -0.00316007, 0.999995\n",
      "]\n",
      "t: 0.00112241 0.00989265     1.9179\n",
      "\n"
     ]
    }
   ],
   "source": [
    "for i in pose_array[:3,0]:\n",
    "    pose_key = gtsam.symbol('x', int(i))\n",
    "    print(result.atPose3(pose_key))"
   ]
  },
  {
   "cell_type": "markdown",
   "metadata": {},
   "source": [
    "We can also plot the result (needs more work):"
   ]
  },
  {
   "cell_type": "code",
   "execution_count": 8,
   "metadata": {},
   "outputs": [
    {
     "data": {
      "image/png": "[encoded data removed]",
      "text/plain": [
       "<Figure size 960x560 with 1 Axes>"
      ]
     },
     "metadata": {
      "needs_background": "light"
     },
     "output_type": "display_data"
    }
   ],
   "source": [
    "plt.figure(0, figsize=(12, 7), dpi=80)\n",
    "gtsam_plot.plot_trajectory(0, result, scale=0.1)\n",
    "plt.gca().view_init(0, 0)\n",
    "plt.gca().set_box_aspect([1,1,1])"
   ]
  },
  {
   "cell_type": "code",
   "execution_count": null,
   "metadata": {},
   "outputs": [],
   "source": []
  }
 ],
 "metadata": {
  "interpreter": {
   "hash": "9f7376ced4243bb13dfcffa8a3ba834e0602aa8334cd3a1d8ba8d285f4628083"
  },
  "kernelspec": {
   "display_name": "Python 3.8.12 ('gtbook')",
   "language": "python",
   "name": "python3"
  },
  "language_info": {
   "codemirror_mode": {
    "name": "ipython",
    "version": 3
   },
   "file_extension": ".py",
   "mimetype": "text/x-python",
   "name": "python",
   "nbconvert_exporter": "python",
   "pygments_lexer": "ipython3",
   "version": "3.8.12"
  },
  "orig_nbformat": 4
 },
 "nbformat": 4,
 "nbformat_minor": 2
}
