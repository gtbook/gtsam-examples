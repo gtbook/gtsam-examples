{
 "cells": [
  {
   "cell_type": "markdown",
   "metadata": {},
   "source": [
    "# Inertial Estimation with Imu Preintegration\n",
    "\n",
    "<a href=\"https://colab.research.google.com/github/gtbook/gtsam-examples/blob/main/ImuFactorExample101.ipynb\" target=\"_parent\"><img src=\"https://colab.research.google.com/assets/colab-badge.svg\" alt=\"Open In Colab\"/></a>"
   ]
  },
  {
   "cell_type": "markdown",
   "metadata": {},
   "source": [
    "## Background\n",
    "\n",
    "IMUs are powerful sensors capable of providing us with measurements on angular velocity and linear acceleration of the body at high frequencies (~200Hz and above). To estimate the pose of the body at any time, one can simply integrate the angular velocity to get the rotation and double-integrate the linear acceleration to get the velocity and translation.\n",
    "\n",
    "$$ R^w_b(t_j) = R^w_b(t_i)\\int^{t_j}_{t_i} exp(\\hat{\\omega}(t)) dt $$\n",
    "$$ v^w(t_j) = v^w(t_i) + \\int^{t_j}_{t_i} \\hat{a} dt $$\n",
    "$$ t^w(t_j) = \\int^{t_j}_{t_i} \\left( v^w(t_i) \\int^{t_j}_{t_i} \\hat{a}\\right) dt $$\n",
    "\n",
    "where $\\hat{\\omega}$ is the measured angular velocity and $\\hat{a}$ is the measured linear acceleration.\n",
    "\n",
    "Alas, things are not as straightforward as this. Unless you are using tactical or navigation grade IMUs (which cost \\$1000s), the sensor measurements will be noisy and affected by sensor bias $(b_{\\omega}, b_{a})$ that will cause the estimates to drift away from the true values. To correct for this, we need to optimize with consideration for the noise and bias values as part of our model.\n",
    "\n",
    "However, performing optimization at 200 Hz is a bit unrealistic and can quickly overwhelm the system, especially when we only need estimates every, e.g. 50 Hz. Can we instead account for multple measurements between two estimation timestamps as a single binary constraint? The answer is yes and the methodology for that is developed in the [paper by Lupton and Sukkarieh](https://ieeexplore.ieee.org/document/5354267) and improved upon [by Forster et. al.](https://arxiv.org/pdf/1512.02363.pdf) which is termed as **IMU Preintegration**.\n",
    "\n",
    "Luckily for us, GTSAM has the `ImuFactor` which performs IMU preintegration for us in a neatly tied package, such that all we need to consider is the coordinate frame of the sensor with respect to the body, and providing the measurements for preintegration."
   ]
  },
  {
   "cell_type": "markdown",
   "metadata": {},
   "source": [
    "## Objectives\n",
    "\n",
    "In this example, we shall examine how to use IMU preintegration for inertial estimation with factor graphs. Given a sequence of measurements, we will construct the factor graph and optimize it in order to get the desired pose estimates."
   ]
  },
  {
   "cell_type": "code",
   "execution_count": null,
   "metadata": {},
   "outputs": [],
   "source": [
    "# Install the pre-requisites\n",
    "%pip -q install gtbook ipympl  # also installs latest gtsam pre-release"
   ]
  },
  {
   "cell_type": "code",
   "execution_count": null,
   "metadata": {},
   "outputs": [],
   "source": [
    "# All the imports we need\n",
    "import numpy as np\n",
    "import gtsam\n",
    "from gtsam.utils.plot import plot_pose3\n",
    "from matplotlib import pyplot as plt\n",
    "from gtsam.symbol_shorthand import B, V, X\n",
    "from gtbook.display import show\n",
    "from mpl_toolkits.mplot3d import Axes3D\n",
    "\n",
    "\n",
    "# For Google Colab\n",
    "from google.colab import output\n",
    "output.enable_custom_widget_manager()\n",
    "\n",
    "# For interactive plots\n",
    "%matplotlib widget"
   ]
  },
  {
   "cell_type": "markdown",
   "metadata": {},
   "source": [
    "## Example Trajectory\n",
    "\n",
    "Let's first generate an example trajectory we wish to estimate, as this will give us a good sense of what we want. We'll also visualize the trajectory with a little helper function."
   ]
  },
  {
   "cell_type": "code",
   "execution_count": null,
   "metadata": {},
   "outputs": [],
   "source": [
    "T = 12  # The timespan of our trajectory.\n",
    "dt = 1e-2  # 100 Hz frequency\n",
    "velocity = np.array([2, 0, 0])  # The velocity we wish to move at.\n",
    "\n",
    "scenarios = {\n",
    "    \"zero_twist\": (np.zeros(3), np.zeros(3)),\n",
    "    \"forward_motion\": (np.zeros(3), velocity),\n",
    "    \"loop\": (np.array([0, -np.radians(30), 0]), velocity),\n",
    "    \"sick\": (np.array([np.radians(30), -np.radians(30), 0]), velocity)\n",
    "}\n",
    "\n",
    "\n",
    "def plot_scenario(scenario,\n",
    "                  T,\n",
    "                  dt,\n",
    "                  title=\"IMU trajectory scenario\",\n",
    "                  fignum=0,\n",
    "                  maxDim=5):\n",
    "    \"\"\"Plot the `scenario` trajectory over `T` seconds.\"\"\"\n",
    "    for t in np.arange(0, T, dt):\n",
    "        actualPose = scenario.pose(t)\n",
    "        plot_pose3(fignum, actualPose, axis_length=0.3)\n",
    "\n",
    "        translation = actualPose.translation()\n",
    "        maxDim = max([max(np.abs(translation)), maxDim])\n",
    "        ax = plt.gca()\n",
    "        ax.set_xlim3d(-maxDim, maxDim)\n",
    "        ax.set_ylim3d(-maxDim, maxDim)\n",
    "        ax.set_zlim3d(-maxDim, maxDim)\n",
    "        ax.set_title(title)\n",
    "\n",
    "    plt.show()"
   ]
  },
  {
   "cell_type": "markdown",
   "metadata": {},
   "source": [
    "We can now plot the various scenarios, e.g. forward motion."
   ]
  },
  {
   "cell_type": "code",
   "execution_count": null,
   "metadata": {},
   "outputs": [],
   "source": [
    "for idx, scenario_name in enumerate(scenarios.keys()):\n",
    "    scenario = gtsam.ConstantTwistScenario(*scenarios[scenario_name])\n",
    "    plot_scenario(scenario, T, dt, fignum=idx + 1, title=scenario_name)\n"
   ]
  },
  {
   "cell_type": "markdown",
   "metadata": {},
   "source": [
    "Let's start with a simple trajectory to make understanding easier, so we will pick the __forward motion__ trajectory. As you will see later, the same approach works for all trajectories."
   ]
  },
  {
   "cell_type": "code",
   "execution_count": null,
   "metadata": {},
   "outputs": [],
   "source": [
    "scenario = gtsam.ConstantTwistScenario(*scenarios[\"forward_motion\"])\n",
    "\n",
    "# Let's visualize it for our understanding\n",
    "plot_scenario(scenario, T, dt, title=\"Forward Motion\", fignum=5)"
   ]
  },
  {
   "cell_type": "markdown",
   "metadata": {},
   "source": [
    "As a  final step in creating the example, we need to define the IMU biases."
   ]
  },
  {
   "cell_type": "code",
   "execution_count": null,
   "metadata": {},
   "outputs": [],
   "source": [
    "accBias = np.array([-0.3, 0.1, 0.2])\n",
    "gyroBias = np.array([0.1, 0.3, -0.1])\n",
    "actualBias = gtsam.imuBias.ConstantBias(accBias, gyroBias)\n"
   ]
  },
  {
   "cell_type": "markdown",
   "metadata": {},
   "source": [
    "## IMU Preintegration\n",
    "\n",
    "To perform preintegration, GTSAM conveniently provides us with an object called `PreintegratedImuMeasurements`. This object requires various parameters such as the sensor covariances, an initial estimate of the bias, and a potential tranform `bodyPsensor` is the IMU is not coincidental with the body frame.\n",
    "\n",
    "We begin with specifying that the IMU has the Z axis pointing up. This is important since reaction to gravity is an acceleration that is measured by the IMU, and making a mistake here can throw our entire system into jeopardy easily. We also specify some nominal covariance values, though these would depend on the IMU itself.\n",
    "\n",
    " Also, let's create a `ScenarioRunner` which is a helper object to get us the measurements as well as other parameters we need during the main data loop."
   ]
  },
  {
   "cell_type": "code",
   "execution_count": null,
   "metadata": {},
   "outputs": [],
   "source": [
    "pim_params = gtsam.PreintegrationParams.MakeSharedU(9.81)\n",
    "\n",
    "# Some arbitrary noise sigmas\n",
    "gyro_sigma = 1e-3\n",
    "accel_sigma = 1e-3\n",
    "I_3x3 = np.eye(3)\n",
    "pim_params.setGyroscopeCovariance(gyro_sigma**2 * I_3x3)\n",
    "pim_params.setAccelerometerCovariance(accel_sigma**2 * I_3x3)\n",
    "pim_params.setIntegrationCovariance(1e-7**2 * I_3x3)\n",
    "\n",
    "# Define the PreintegratedImuMeasurements object here.\n",
    "pim = gtsam.PreintegratedImuMeasurements(pim_params, actualBias)\n",
    "\n",
    "runner = gtsam.ScenarioRunner(scenario, pim_params, dt, actualBias)\n",
    "plot_scenario(scenario, T, dt, fignum=6)"
   ]
  },
  {
   "cell_type": "markdown",
   "metadata": {},
   "source": [
    "We can define our main loop, where we accept the IMU measurements and create our `ImuFactor`s by preintegrating the measurements."
   ]
  },
  {
   "cell_type": "code",
   "execution_count": null,
   "metadata": {},
   "outputs": [],
   "source": [
    "def main_loop(runner, scenario, graph, initial, T):\n",
    "    # The factor index for the estimation rate\n",
    "    i = 0\n",
    "\n",
    "    for k, t in enumerate(np.arange(0, T, dt)):\n",
    "        # get measurements and add them to PIM\n",
    "        measuredOmega = runner.measuredAngularVelocity(t)\n",
    "        measuredAcc = runner.measuredSpecificForce(t)\n",
    "\n",
    "        ### This is where all the magic happens!\n",
    "        pim.integrateMeasurement(measuredAcc, measuredOmega, dt)\n",
    "\n",
    "        if (k + 1) % int(1 / dt) == 0:\n",
    "            # Create IMU factor every second.\n",
    "            factor = gtsam.ImuFactor(X(i), V(i), X(i + 1), V(i + 1), B(0), pim)\n",
    "            graph.push_back(factor)\n",
    "\n",
    "            # We have created the binary constraint, so we clear out the preintegration values.\n",
    "            pim.resetIntegration()\n",
    "\n",
    "            # Get the true state which we will corrupt with some additive noise terms defined below\n",
    "            actual_state_i = scenario.navState(t + dt)\n",
    "\n",
    "            # These are additive noise terms.\n",
    "            rotationNoise = gtsam.Rot3.Expmap(np.random.randn(3) * 0.1)\n",
    "            translationNoise = gtsam.Point3(*np.random.randn(3) * 1)\n",
    "            poseNoise = gtsam.Pose3(rotationNoise, translationNoise)\n",
    "\n",
    "            noisy_state_i = gtsam.NavState(\n",
    "                actual_state_i.pose().compose(poseNoise),\n",
    "                actual_state_i.velocity() + np.random.randn(3) * 0.1)\n",
    "\n",
    "            initial.insert(X(i + 1), noisy_state_i.pose())\n",
    "            initial.insert(V(i + 1), noisy_state_i.velocity())\n",
    "            i += 1\n",
    "\n",
    "    return graph, initial"
   ]
  },
  {
   "cell_type": "markdown",
   "metadata": {},
   "source": [
    "## Factor Graph\n",
    "\n",
    "We are now ready to generate our factor graph. The `scenario` object will provide us with the measurements, and we will add a prior on the pose and the velocity to ensure our graph is not singular."
   ]
  },
  {
   "cell_type": "code",
   "execution_count": null,
   "metadata": {},
   "outputs": [],
   "source": [
    "graph = gtsam.NonlinearFactorGraph()\n",
    "initial = gtsam.Values()"
   ]
  },
  {
   "cell_type": "markdown",
   "metadata": {},
   "source": [
    "Let's add in the priors to our graph as well as some initial estimates."
   ]
  },
  {
   "cell_type": "code",
   "execution_count": null,
   "metadata": {},
   "outputs": [],
   "source": [
    "def add_priors(scenario, graph, initial):\n",
    "    # Noise models for\n",
    "    priorNoise = gtsam.noiseModel.Isotropic.Sigma(6, 0.1)\n",
    "    velNoise = gtsam.noiseModel.Isotropic.Sigma(3, 0.1)\n",
    "\n",
    "    initial_state = scenario.navState(0)\n",
    "    graph.push_back(\n",
    "        gtsam.PriorFactorPose3(X(0), initial_state.pose(), priorNoise))\n",
    "    graph.push_back(\n",
    "        gtsam.PriorFactorVector(V(0), initial_state.velocity(), velNoise))\n",
    "\n",
    "    initial.insert(B(0), actualBias)\n",
    "    initial.insert(X(0), initial_state.pose())\n",
    "    initial.insert(V(0), initial_state.velocity())\n",
    "\n",
    "    return graph, initial\n",
    "\n",
    "\n",
    "graph, initial = add_priors(scenario, graph, initial)\n"
   ]
  },
  {
   "cell_type": "markdown",
   "metadata": {},
   "source": [
    "Now with everything set up, we can run our main loop."
   ]
  },
  {
   "cell_type": "code",
   "execution_count": null,
   "metadata": {},
   "outputs": [],
   "source": [
    "graph, initial = main_loop(runner, scenario, graph, initial, T)"
   ]
  },
  {
   "cell_type": "markdown",
   "metadata": {},
   "source": [
    "We want to visualize our initial estimates, so let's create a small function to do so and plot out the initial trajectory based only on pure forward-integration. You will see that the initial estimates don't look like anything close to the true trajectory!"
   ]
  },
  {
   "cell_type": "code",
   "execution_count": null,
   "metadata": {},
   "outputs": [],
   "source": [
    "def plot_trajectory(values: gtsam.Values,\n",
    "                    title: str = \"Estimated Trajectory\",\n",
    "                    fignum: int = 1,\n",
    "                    show: bool = False):\n",
    "    \"\"\"\n",
    "        Plot poses in values.\n",
    "\n",
    "        Args:\n",
    "            values: The values object with the poses to plot.\n",
    "            title: The title of the plot.\n",
    "            fignum: The matplotlib figure number.\n",
    "                POSES_FIG is a value from the PreintegrationExample which we simply increment to generate a new figure.\n",
    "            show: Flag indicating whether to display the figure.\n",
    "        \"\"\"\n",
    "    i = 0\n",
    "    while values.exists(X(i)):\n",
    "        pose_i = values.atPose3(X(i))\n",
    "        plot_pose3(fignum, pose_i, 1)\n",
    "        i += 1\n",
    "    plt.title(title)\n",
    "\n",
    "    gtsam.utils.plot.set_axes_equal(fignum)\n",
    "\n",
    "    plt.ioff()\n",
    "\n",
    "    if show:\n",
    "        plt.show()\n",
    "\n",
    "\n",
    "plot_trajectory(initial, title=\"Initial Trajectory\", fignum=7, show=True)"
   ]
  },
  {
   "cell_type": "markdown",
   "metadata": {},
   "source": [
    "## Optimization\n",
    "\n",
    "Now that we have a full factor graph and initial estimates, we can optimize for the correct estimates. This is as simple as just initializing an optimizer with the graph and initial values and calling `optimize` on it."
   ]
  },
  {
   "cell_type": "code",
   "execution_count": null,
   "metadata": {},
   "outputs": [],
   "source": [
    "lm_params = gtsam.LevenbergMarquardtParams()\n",
    "lm_params.setVerbosityLM(\"SUMMARY\")\n",
    "optimizer = gtsam.LevenbergMarquardtOptimizer(graph, initial, lm_params)\n",
    "result = optimizer.optimize()"
   ]
  },
  {
   "cell_type": "markdown",
   "metadata": {},
   "source": [
    "## Final Result\n",
    "\n",
    "Now that we have our final `result` values, we can visualize the result and see that our estimates are actually quite good."
   ]
  },
  {
   "cell_type": "code",
   "execution_count": null,
   "metadata": {},
   "outputs": [],
   "source": [
    "plot_trajectory(result, fignum=8, show=True)"
   ]
  },
  {
   "cell_type": "markdown",
   "metadata": {},
   "source": [
    "## Other Scenarios\n",
    "\n",
    "We can similarly run the same code above for other scenarios."
   ]
  },
  {
   "cell_type": "markdown",
   "metadata": {},
   "source": [
    "### Standing Scenario\n",
    "\n",
    "Let's use the `ImuFactorExample` for all the scenarios, starting with **Standing**."
   ]
  },
  {
   "cell_type": "code",
   "execution_count": null,
   "metadata": {},
   "outputs": [],
   "source": [
    "scenario = gtsam.ConstantTwistScenario(*scenarios[\"zero_twist\"])\n",
    "plot_scenario(scenario, T, dt, title=\"Zero Twist\", fignum=9)\n",
    "\n",
    "runner = gtsam.ScenarioRunner(scenario, pim_params, dt, actualBias)\n",
    "\n",
    "\n",
    "graph = gtsam.NonlinearFactorGraph()\n",
    "initial = gtsam.Values()\n",
    "\n",
    "graph, initial = add_priors(scenario, graph, initial)\n",
    "graph, initial = main_loop(runner, scenario, graph, initial, T)\n",
    "\n",
    "optimizer = gtsam.LevenbergMarquardtOptimizer(graph, initial, lm_params)\n",
    "result = optimizer.optimize()\n",
    "\n",
    "plot_trajectory(initial, title=\"Initial Trajectory\", fignum=10, show=True)\n",
    "plot_trajectory(result, fignum=11, show=True)"
   ]
  },
  {
   "cell_type": "markdown",
   "metadata": {},
   "source": [
    "### Loop Scenario"
   ]
  },
  {
   "cell_type": "code",
   "execution_count": null,
   "metadata": {},
   "outputs": [],
   "source": [
    "scenario = gtsam.ConstantTwistScenario(*scenarios[\"loop\"])\n",
    "plot_scenario(scenario, T, dt, title=\"Loop Scenario\", fignum=12)\n",
    "\n",
    "runner = gtsam.ScenarioRunner(scenario, pim_params, dt, actualBias)\n",
    "\n",
    "\n",
    "graph = gtsam.NonlinearFactorGraph()\n",
    "initial = gtsam.Values()\n",
    "\n",
    "graph, initial = add_priors(scenario, graph, initial)\n",
    "graph, initial = main_loop(runner, scenario, graph, initial, T)\n",
    "\n",
    "optimizer = gtsam.LevenbergMarquardtOptimizer(graph, initial, lm_params)\n",
    "result = optimizer.optimize()\n",
    "\n",
    "plot_trajectory(initial, title=\"Initial Trajectory\", fignum=13, show=True)\n",
    "plot_trajectory(result, fignum=14, show=True)"
   ]
  },
  {
   "cell_type": "markdown",
   "metadata": {},
   "source": [
    "### Sick Scenario"
   ]
  },
  {
   "cell_type": "code",
   "execution_count": null,
   "metadata": {},
   "outputs": [],
   "source": [
    "scenario = gtsam.ConstantTwistScenario(*scenarios[\"sick\"])\n",
    "plot_scenario(scenario, T, dt, title=\"Sick Scenario\", fignum=15)\n",
    "\n",
    "runner = gtsam.ScenarioRunner(scenario, pim_params, dt, actualBias)\n",
    "\n",
    "\n",
    "graph = gtsam.NonlinearFactorGraph()\n",
    "initial = gtsam.Values()\n",
    "\n",
    "graph, initial = add_priors(scenario, graph, initial)\n",
    "graph, initial = main_loop(runner, scenario, graph, initial, T)\n",
    "\n",
    "optimizer = gtsam.LevenbergMarquardtOptimizer(graph, initial, lm_params)\n",
    "result = optimizer.optimize()\n",
    "\n",
    "plot_trajectory(initial, title=\"Initial Trajectory\", fignum=16, show=True)\n",
    "plot_trajectory(result, fignum=17, show=True)"
   ]
  },
  {
   "cell_type": "markdown",
   "metadata": {},
   "source": [
    "## Conclusion\n",
    "\n",
    "There you have it! Using the `PreintegratedImuMeasurements` object and combining it with the `ImuFactor` gives us a powerful and efficient mechanism for performing inertial estimation."
   ]
  }
 ],
 "metadata": {
  "interpreter": {
   "hash": "bd7d0fa04c741e40aa18fab4c46edf132bab64a0cf30e47c46fbb23f9b9c001f"
  },
  "kernelspec": {
   "display_name": "Python 3.9.6 64-bit ('3.9.6')",
   "language": "python",
   "name": "python3"
  },
  "language_info": {
   "codemirror_mode": {
    "name": "ipython",
    "version": 3
   },
   "file_extension": ".py",
   "mimetype": "text/x-python",
   "name": "python",
   "nbconvert_exporter": "python",
   "pygments_lexer": "ipython3",
   "version": "3.9.6"
  },
  "orig_nbformat": 4
 },
 "nbformat": 4,
 "nbformat_minor": 2
}
