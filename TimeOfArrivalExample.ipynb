{
  "metadata": {
    "colab": {
      "collapsed_sections": [],
      "name": "TimeOfArrivalExample.ipynb",
      "provenance": []
    },
    "interpreter": {
      "hash": "c6e4e9f98eb68ad3b7c296f83d20e6de614cb42e90992a65aa266555a3137d0d"
    },
    "kernelspec": {
      "name": "python3",
      "display_name": "Python 3"
    },
    "language_info": {
      "name": "python"
    },
    "latex_metadata": {
      "affiliation": "International Research Lab 2958 Georgia Tech-Cnrs",
      "author": "Othmane-Latif Ouabi",
      "title": "Localization_with_time_of_arrival_measurements"
    }
  },
  "nbformat_minor": 0,
  "nbformat": 4,
  "cells": [
    {
      "cell_type": "markdown",
      "source": [
        "# Localization with time of arrival measurements\n",
        "\n",
        "<a href=\"https://colab.research.google.com/github/oouabi/gtsam-examples/blob/main/TimeOfArrivalExample.ipynb\" target=\"_parent\"><img src=\"https://colab.research.google.com/assets/colab-badge.svg\" alt=\"Open In Colab\"/></a>"
      ],
      "metadata": {
        "id": "arMydWfHifPF"
      }
    },
    {
      "cell_type": "markdown",
      "source": [
        "Acoustic sensors can be used as a mean to track a moving object. Typically, acoustic measurements are characteristic of the distance between the receiver and an acoustic source. Hence, they convey information on the position of the latter, which can be leveraged for localization. In the next, we will see how gtsam can be used in such a scenario. The following example considers an omnidirectional sound source that periodically emits an acoustic signal while moving. The signals are received by a fixed array of microphones that can synchronously record the signals from which Time of Arrival (ToA) measurements are extracted. The objective is to recover, from the ToA measurements, the trajectory of the moving agent. In this simple example, no odometry information is used, but odometry factors can seamlessly be integrated."
      ],
      "metadata": {
        "id": "7ER921sUifPI"
      }
    },
    {
      "cell_type": "code",
      "source": [
        "# Install the pre-requisites\n",
        "%pip -q install gtbook "
      ],
      "metadata": {
        "id": "JoW4C_OkOMhe",
        "tags": [
          "remove-cell"
        ],
        "trusted": true
      },
      "execution_count": 1,
      "outputs": []
    },
    {
      "cell_type": "code",
      "source": [
        "import numpy as np\n",
        "import matplotlib.pyplot as plt\n",
        "import gtsam\n",
        "\n",
        "from gtsam import (LevenbergMarquardtOptimizer, LevenbergMarquardtParams,\n",
        "                   NonlinearFactorGraph, Point3, Values, noiseModel)\n",
        "from gtsam_unstable import Event, TimeOfArrival, TOAFactor"
      ],
      "metadata": {
        "id": "10-snNDwOSuC",
        "tags": [
          "remove-cell"
        ],
        "trusted": true
      },
      "execution_count": 2,
      "outputs": []
    },
    {
      "cell_type": "markdown",
      "source": [
        "# Example trajectory\n",
        "\n",
        "We start by defining the microphones position and create the ground truth trajectory along with sound events. We first define useful units."
      ],
      "metadata": {
        "id": "nAvx4-UCNzt2",
        "tags": []
      }
    },
    {
      "cell_type": "code",
      "source": [
        "MS = 1e-3 # 1 millisecond in s\n",
        "CM = 1e-2 # 1 centimeter in m"
      ],
      "metadata": {
        "trusted": true,
        "id": "X0BsBHPGifPN"
      },
      "execution_count": 3,
      "outputs": []
    },
    {
      "cell_type": "markdown",
      "source": [
        " Next, we istantiate a functor with a value $v = 330 m.s^{-1}$ for the speed of sound."
      ],
      "metadata": {
        "id": "QpwKGbRylV-7"
      }
    },
    {
      "cell_type": "code",
      "source": [
        "TIME_OF_ARRIVAL = TimeOfArrival(330)"
      ],
      "metadata": {
        "trusted": true,
        "id": "xirrSUgtifPP"
      },
      "execution_count": 4,
      "outputs": []
    },
    {
      "cell_type": "markdown",
      "source": [
        "We define the positions of four microphones that we constrain to lie in a horizontal plane (*i.e* with constant $z$ coordinate)."
      ],
      "metadata": {
        "id": "Ykno7J8MifPP"
      }
    },
    {
      "cell_type": "code",
      "source": [
        "height = 0.5\n",
        "microphones = []\n",
        "microphones.append(Point3(0, 0, height))\n",
        "microphones.append(Point3(403 * CM, 0, height))\n",
        "microphones.append(Point3(403 * CM, 403 * CM, height))\n",
        "microphones.append(Point3(0, 403 * CM, 2 * height))\n",
        "\n",
        "K = len(microphones)\n",
        "for i in range(K):\n",
        "    print(\"mic {} = {}\".format(i, microphones[i]))"
      ],
      "metadata": {
        "trusted": true,
        "id": "jZE77ghYifPQ",
        "outputId": "50d4d96f-55fb-4b3d-ae08-d7508737725d",
        "colab": {
          "base_uri": "https://localhost:8080/"
        }
      },
      "execution_count": 5,
      "outputs": [
        {
          "output_type": "stream",
          "name": "stdout",
          "text": [
            "mic 0 = [0.  0.  0.5]\n",
            "mic 1 = [4.03 0.   0.5 ]\n",
            "mic 2 = [4.03 4.03 0.5 ]\n",
            "mic 3 = [0.   4.03 1.  ]\n"
          ]
        }
      ]
    },
    {
      "cell_type": "markdown",
      "source": [
        "We subsequently create a ground truth trajectory for the moving sound emitter which follows a straight line, and specify the times at which a sound is emitted."
      ],
      "metadata": {
        "id": "c0Q43BDxifPT"
      }
    },
    {
      "cell_type": "code",
      "source": [
        "n = 5\n",
        "groundTruth = []\n",
        "timeOfEvent = 10\n",
        "\n",
        "# simulate emitting a sound every second while moving on straight line\n",
        "for key in range(n):\n",
        "    groundTruth.append(\n",
        "        Event(timeOfEvent, 245 * CM + key * 1.0, 201.5 * CM, (212 - 45) * CM))\n",
        "    timeOfEvent += 1\n",
        "        \n",
        "#for event in groundTruth:\n",
        "#    event.print()"
      ],
      "metadata": {
        "tags": [],
        "trusted": true,
        "id": "wO5_ocxiifPU"
      },
      "execution_count": 6,
      "outputs": []
    },
    {
      "cell_type": "markdown",
      "source": [
        "For visualization, we display the agent positions corresponding to an excitation event, along with the microphone array."
      ],
      "metadata": {
        "id": "NvXX8a2YifPU"
      }
    },
    {
      "cell_type": "code",
      "source": [
        "fig = plt.figure()\n",
        "plt.plot([mic[0] for mic in microphones], [mic[1] for mic in microphones], \"b.\", markersize=10, label=\"Microphones\")\n",
        "plt.plot([ev.location()[0] for ev in groundTruth], [ev.location()[1] for ev in groundTruth], \"s\", color=\"r\", markersize=5, linestyle=\"-\", lw=0.5, label=\"Source positions\")\n",
        "plt.xlabel(\"x [m]\"); plt.ylabel(\"y [m]\")\n",
        "plt.legend(); fig.show()"
      ],
      "metadata": {
        "id": "L_tLoHdOifPV",
        "outputId": "9b0e3587-b124-439d-bb41-ed46f2b49370",
        "colab": {
          "base_uri": "https://localhost:8080/",
          "height": 279
        }
      },
      "execution_count": 7,
      "outputs": [
        {
          "output_type": "display_data",
          "data": {
            "text/plain": [
              "<Figure size 432x288 with 1 Axes>"
            ],
            "image/png": "[encoded data removed]"
          },
          "metadata": {
            "needs_background": "light"
          }
        }
      ]
    },
    {
      "cell_type": "markdown",
      "source": [
        "We can now simulate the time of arrival measurements based on the distance between each microphone and the moving sound source. To determine the (noise-free) ToA between microphone $j$ for the $i$-th source position, one may simply use the formula:\n",
        "\n",
        "$$ z_{i, j} = \\frac{d_{i, j}}{v}, $$\n",
        "\n",
        "where $d_{i, j}$ is the distance between them. Otherwise, the function TIME_OF_ARRIVAL.measure can take care of it."
      ],
      "metadata": {
        "id": "MkerMqa9ifPW"
      }
    },
    {
      "cell_type": "code",
      "source": [
        "def simulate_one_toa(microphones, event):\n",
        "    \"\"\"Simulate time-of-arrival measurements for a single event.\"\"\"\n",
        "    return [TIME_OF_ARRIVAL.measure(event, microphones[i])\n",
        "            for i in range(len(microphones))]\n",
        "\n",
        "simulatedTOA = [simulate_one_toa(microphones, event)\n",
        "        for event in groundTruth]\n",
        "\n",
        "for key in range(n):\n",
        "    for i in range(K):\n",
        "        print(\"z_{}{} = {} ms\".format(key, i, simulatedTOA[key][i] / MS))"
      ],
      "metadata": {
        "trusted": true,
        "id": "EdsVLXlXifPW",
        "outputId": "cd736783-df1a-4f26-abe2-ad897ea8bd24",
        "colab": {
          "base_uri": "https://localhost:8080/"
        }
      },
      "execution_count": 8,
      "outputs": [
        {
          "output_type": "stream",
          "name": "stdout",
          "text": [
            "z_00 = 10010.245662478956 ms\n",
            "z_01 = 10008.531002716338 ms\n",
            "z_02 = 10008.531002716338 ms\n",
            "z_03 = 10009.824738271 ms\n",
            "z_10 = 11012.615535847513 ms\n",
            "z_11 = 11007.276214441754 ms\n",
            "z_12 = 11007.276214441754 ms\n",
            "z_13 = 11012.276140565378 ms\n",
            "z_20 = 12015.22154271807 ms\n",
            "z_21 = 12007.174542408371 ms\n",
            "z_22 = 12007.174542408371 ms\n",
            "z_23 = 12014.941460610633 ms\n",
            "z_30 = 13017.961192990088 ms\n",
            "z_31 = 13008.268633130547 ms\n",
            "z_32 = 13008.268633130547 ms\n",
            "z_33 = 13017.724455875657 ms\n",
            "z_40 = 14020.78169909914 ms\n",
            "z_41 = 14010.17998044382 ms\n",
            "z_42 = 14010.17998044382 ms\n",
            "z_43 = 14020.577436670008 ms\n"
          ]
        }
      ]
    },
    {
      "cell_type": "markdown",
      "source": [
        "# Creation of the nonlinear factor graph\n",
        "\n",
        "As always, we create a factor graph to solve the problem at hand. "
      ],
      "metadata": {
        "id": "qR0JNEZlifPX"
      }
    },
    {
      "cell_type": "code",
      "source": [
        "graph = NonlinearFactorGraph()\n",
        "\n",
        "# Create a noise model for the TOA error\n",
        "model = noiseModel.Isotropic.Sigma(1, 0.5 * MS)\n",
        "\n",
        "K = len(microphones)\n",
        "key = 0\n",
        "for toa in simulatedTOA:\n",
        "    for i in range(K):\n",
        "        factor = TOAFactor(key, microphones[i], toa[i], model)\n",
        "        graph.push_back(factor)\n",
        "    key += 1\n",
        "        \n",
        "print(graph.at(0))"
      ],
      "metadata": {
        "trusted": true,
        "id": "rJ0D8cGFifPX",
        "outputId": "6480b693-c47a-4b46-df73-e74b95628cf0",
        "colab": {
          "base_uri": "https://localhost:8080/"
        }
      },
      "execution_count": 9,
      "outputs": [
        {
          "output_type": "stream",
          "name": "stdout",
          "text": [
            "  keys = { 0 }\n",
            "isotropic dim=1 sigma=0.0005\n",
            "ExpressionFactor with measurement:  10.0102\n",
            "\n"
          ]
        }
      ]
    },
    {
      "cell_type": "markdown",
      "source": [
        "## Optimization and results\n",
        "\n",
        "The optimizer needs to be provided an initial trajectory estimate."
      ],
      "metadata": {
        "id": "t3FYzhipifPX"
      }
    },
    {
      "cell_type": "code",
      "source": [
        "initial_estimate = Values()\n",
        "zero = Event()\n",
        "for key in range(n):\n",
        "    TOAFactor.InsertEvent(key, zero, initial_estimate)\n",
        "print(initial_estimate)"
      ],
      "metadata": {
        "id": "Tk5NVy_7ifPY",
        "outputId": "b9981d9c-ed84-450b-f1de-08a73ac42305",
        "colab": {
          "base_uri": "https://localhost:8080/"
        }
      },
      "execution_count": 10,
      "outputs": [
        {
          "output_type": "stream",
          "name": "stdout",
          "text": [
            "Values with 5 values:\n",
            "Value 0: (gtsam::Event)\n",
            "{'time':0, 'location': 0 0 0}\n",
            "Value 1: (gtsam::Event)\n",
            "{'time':0, 'location': 0 0 0}\n",
            "Value 2: (gtsam::Event)\n",
            "{'time':0, 'location': 0 0 0}\n",
            "Value 3: (gtsam::Event)\n",
            "{'time':0, 'location': 0 0 0}\n",
            "Value 4: (gtsam::Event)\n",
            "{'time':0, 'location': 0 0 0}\n",
            "\n"
          ]
        }
      ]
    },
    {
      "cell_type": "markdown",
      "source": [
        "The graph is optimized using the Levenberg-Marquardt optimizer."
      ],
      "metadata": {
        "id": "cCTqrJa1ifPY"
      }
    },
    {
      "cell_type": "code",
      "source": [
        "params = LevenbergMarquardtParams()\n",
        "params.setAbsoluteErrorTol(1e-10)\n",
        "params.setVerbosityLM(\"SUMMARY\")\n",
        "optimizer = LevenbergMarquardtOptimizer(graph, initial_estimate, params)\n",
        "result = optimizer.optimize()\n",
        "print(\"Final Result:\\n\", result)"
      ],
      "metadata": {
        "id": "7VNSYxFOifPa",
        "outputId": "3c3c432d-16b3-4f8c-9a04-ea8a1d8997c9",
        "colab": {
          "base_uri": "https://localhost:8080/"
        }
      },
      "execution_count": 11,
      "outputs": [
        {
          "output_type": "stream",
          "name": "stdout",
          "text": [
            "Final Result:\n",
            " Values with 5 values:\n",
            "Value 0: (gtsam::Event)\n",
            "{'time':10, 'location':  2.45 2.015  1.67}\n",
            "Value 1: (gtsam::Event)\n",
            "{'time':11, 'location':  3.45 2.015  1.67}\n",
            "Value 2: (gtsam::Event)\n",
            "{'time':12, 'location':  4.45 2.015  1.67}\n",
            "Value 3: (gtsam::Event)\n",
            "{'time':13, 'location':  5.45 2.015  1.67}\n",
            "Value 4: (gtsam::Event)\n",
            "{'time':14, 'location':  6.45 2.015  1.67}\n",
            "\n"
          ]
        }
      ]
    },
    {
      "cell_type": "markdown",
      "source": [
        "The visual representation of the result shows the excelent matching between estimated and ground truth positions."
      ],
      "metadata": {
        "id": "kmxKML2RifPa"
      }
    },
    {
      "cell_type": "code",
      "source": [
        "# parsing the result to retrieve the estimated locations\n",
        "L = result.__repr__().split('\\n'); L = [L[ind] for ind in range(2, len(L), 2)]\n",
        "L = [l.split('location')[1].split()[1:] for l in L]\n",
        "estimated_trajectory = [ [float(coord.split('}')[0]) for coord in l] for l in L]\n",
        "\n",
        "# Display\n",
        "fig = plt.figure()\n",
        "plt.plot([mic[0] for mic in microphones], [mic[1] for mic in microphones], \"b.\", markersize=10, label=\"Microphones\")\n",
        "plt.plot([ev.location()[0] for ev in groundTruth], [ev.location()[1] for ev in groundTruth], \"s\", color=\"r\", markersize=5, linestyle=\"-\", lw=0.5, label=\"Source positions\")\n",
        "plt.plot([x[0] for x in estimated_trajectory], [x[1] for x in estimated_trajectory], \"s\", color=\"g\", markersize=5, linestyle=\"-\", lw=0.5, label=\"Estimated positions\")\n",
        "plt.xlabel(\"x [m]\"); plt.ylabel(\"y [m]\")\n",
        "plt.legend(); fig.show()"
      ],
      "metadata": {
        "id": "fZDgkEfTifPa",
        "outputId": "73e33986-88f9-4b70-abf4-68fa5517c949",
        "colab": {
          "base_uri": "https://localhost:8080/",
          "height": 279
        }
      },
      "execution_count": 12,
      "outputs": [
        {
          "output_type": "display_data",
          "data": {
            "text/plain": [
              "<Figure size 432x288 with 1 Axes>"
            ],
            "image/png": "[encoded data removed]"
          },
          "metadata": {
            "needs_background": "light"
          }
        }
      ]
    }
  ]
}