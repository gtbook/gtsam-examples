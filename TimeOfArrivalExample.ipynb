{
  "metadata": {
    "colab": {
      "collapsed_sections": [],
      "include_colab_link": true,
      "name": "S74_drone_perception.ipynb",
      "provenance": []
    },
    "interpreter": {
      "hash": "c6e4e9f98eb68ad3b7c296f83d20e6de614cb42e90992a65aa266555a3137d0d"
    },
    "kernelspec": {
      "name": "python",
      "display_name": "Pyolite",
      "language": "python"
    },
    "language_info": {
      "codemirror_mode": {
        "name": "python",
        "version": 3
      },
      "file_extension": ".py",
      "mimetype": "text/x-python",
      "name": "python",
      "nbconvert_exporter": "python",
      "pygments_lexer": "ipython3",
      "version": "3.8"
    },
    "latex_metadata": {
      "affiliation": "Georgia Institute of Technology",
      "author": "Frank Dellaert and Seth Hutchinson",
      "title": "Introduction to Robotics"
    }
  },
  "nbformat_minor": 4,
  "nbformat": 4,
  "cells": [
    {
      "cell_type": "markdown",
      "source": "# Localization with time of arrival measurements\n\n<a href=\"https://colab.research.google.com/github/oouabi/gtsam-examples/blob/main/TimeOfArrivalExample.ipynb\" target=\"_parent\"><img src=\"https://colab.research.google.com/assets/colab-badge.svg\" alt=\"Open In Colab\"/></a>",
      "metadata": {}
    },
    {
      "cell_type": "markdown",
      "source": "Acoustic sensors can be used as a mean to track a moving object. Typically, acoustic measurements are characteristic of the distance between the receiver and an acoustic source. Hence, they convey information on the position of the latter, which can be leveraged for localization. In the next, we will see how gtsam can be used in such a scenario. The following example considers an omnidirectional sound source that periodically emits an acoustic signal while moving. The signals are received by a fixed array of microphones that can synchronously record the signals from which Time of Arrival (ToA) measurements are extracted. The objective is to recover, from the ToA measurements, the trajectory of the moving agent. In this simple example, no odometry information is used, but odometry factors can seamlessly be integrated.",
      "metadata": {}
    },
    {
      "cell_type": "code",
      "source": "# Install the pre-requisites\n%pip -q install gtbook ",
      "metadata": {
        "id": "JoW4C_OkOMhe",
        "tags": [
          "remove-cell"
        ],
        "trusted": true
      },
      "execution_count": 1,
      "outputs": [
        {
          "ename": "<class 'AttributeError'>",
          "evalue": "module 'pexpect' has no attribute 'TIMEOUT'",
          "traceback": [
            "\u001b[0;31m---------------------------------------------------------------------------\u001b[0m",
            "\u001b[0;31mAttributeError\u001b[0m                            Traceback (most recent call last)",
            "Input \u001b[0;32mIn [1]\u001b[0m, in \u001b[0;36m<cell line: 2>\u001b[0;34m()\u001b[0m\n\u001b[1;32m      1\u001b[0m \u001b[38;5;66;03m# Install the pre-requisites\u001b[39;00m\n\u001b[0;32m----> 2\u001b[0m \u001b[43mget_ipython\u001b[49m\u001b[43m(\u001b[49m\u001b[43m)\u001b[49m\u001b[38;5;241;43m.\u001b[39;49m\u001b[43mrun_line_magic\u001b[49m\u001b[43m(\u001b[49m\u001b[38;5;124;43m'\u001b[39;49m\u001b[38;5;124;43mpip\u001b[39;49m\u001b[38;5;124;43m'\u001b[39;49m\u001b[43m,\u001b[49m\u001b[43m \u001b[49m\u001b[38;5;124;43m'\u001b[39;49m\u001b[38;5;124;43m-q install gtbook ipympl  # also installs latest gtsam pre-release\u001b[39;49m\u001b[38;5;124;43m'\u001b[39;49m\u001b[43m)\u001b[49m\n",
            "File \u001b[0;32m/lib/python3.10/site-packages/IPython/core/interactiveshell.py:2305\u001b[0m, in \u001b[0;36mInteractiveShell.run_line_magic\u001b[0;34m(self, magic_name, line, _stack_depth)\u001b[0m\n\u001b[1;32m   2303\u001b[0m     kwargs[\u001b[38;5;124m'\u001b[39m\u001b[38;5;124mlocal_ns\u001b[39m\u001b[38;5;124m'\u001b[39m] \u001b[38;5;241m=\u001b[39m \u001b[38;5;28mself\u001b[39m\u001b[38;5;241m.\u001b[39mget_local_scope(stack_depth)\n\u001b[1;32m   2304\u001b[0m \u001b[38;5;28;01mwith\u001b[39;00m \u001b[38;5;28mself\u001b[39m\u001b[38;5;241m.\u001b[39mbuiltin_trap:\n\u001b[0;32m-> 2305\u001b[0m     result \u001b[38;5;241m=\u001b[39m fn(\u001b[38;5;241m*\u001b[39margs, \u001b[38;5;241m*\u001b[39m\u001b[38;5;241m*\u001b[39mkwargs)\n\u001b[1;32m   2306\u001b[0m \u001b[38;5;28;01mreturn\u001b[39;00m result\n",
            "File \u001b[0;32m/lib/python3.10/site-packages/IPython/core/magics/packaging.py:75\u001b[0m, in \u001b[0;36mPackagingMagics.pip\u001b[0;34m(self, line)\u001b[0m\n\u001b[1;32m     72\u001b[0m \u001b[38;5;28;01melse\u001b[39;00m:\n\u001b[1;32m     73\u001b[0m     python \u001b[38;5;241m=\u001b[39m shlex\u001b[38;5;241m.\u001b[39mquote(python)\n\u001b[0;32m---> 75\u001b[0m \u001b[38;5;28;43mself\u001b[39;49m\u001b[38;5;241;43m.\u001b[39;49m\u001b[43mshell\u001b[49m\u001b[38;5;241;43m.\u001b[39;49m\u001b[43msystem\u001b[49m\u001b[43m(\u001b[49m\u001b[38;5;124;43m\"\u001b[39;49m\u001b[38;5;124;43m \u001b[39;49m\u001b[38;5;124;43m\"\u001b[39;49m\u001b[38;5;241;43m.\u001b[39;49m\u001b[43mjoin\u001b[49m\u001b[43m(\u001b[49m\u001b[43m[\u001b[49m\u001b[43mpython\u001b[49m\u001b[43m,\u001b[49m\u001b[43m \u001b[49m\u001b[38;5;124;43m\"\u001b[39;49m\u001b[38;5;124;43m-m\u001b[39;49m\u001b[38;5;124;43m\"\u001b[39;49m\u001b[43m,\u001b[49m\u001b[43m \u001b[49m\u001b[38;5;124;43m\"\u001b[39;49m\u001b[38;5;124;43mpip\u001b[39;49m\u001b[38;5;124;43m\"\u001b[39;49m\u001b[43m,\u001b[49m\u001b[43m \u001b[49m\u001b[43mline\u001b[49m\u001b[43m]\u001b[49m\u001b[43m)\u001b[49m\u001b[43m)\u001b[49m\n\u001b[1;32m     77\u001b[0m \u001b[38;5;28mprint\u001b[39m(\u001b[38;5;124m\"\u001b[39m\u001b[38;5;124mNote: you may need to restart the kernel to use updated packages.\u001b[39m\u001b[38;5;124m\"\u001b[39m)\n",
            "File \u001b[0;32m/lib/python3.10/site-packages/IPython/core/interactiveshell.py:2462\u001b[0m, in \u001b[0;36mInteractiveShell.system_piped\u001b[0;34m(self, cmd)\u001b[0m\n\u001b[1;32m   2457\u001b[0m     \u001b[38;5;28;01mraise\u001b[39;00m \u001b[38;5;167;01mOSError\u001b[39;00m(\u001b[38;5;124m\"\u001b[39m\u001b[38;5;124mBackground processes not supported.\u001b[39m\u001b[38;5;124m\"\u001b[39m)\n\u001b[1;32m   2459\u001b[0m \u001b[38;5;66;03m# we explicitly do NOT return the subprocess status code, because\u001b[39;00m\n\u001b[1;32m   2460\u001b[0m \u001b[38;5;66;03m# a non-None value would trigger :func:`sys.displayhook` calls.\u001b[39;00m\n\u001b[1;32m   2461\u001b[0m \u001b[38;5;66;03m# Instead, we store the exit_code in user_ns.\u001b[39;00m\n\u001b[0;32m-> 2462\u001b[0m \u001b[38;5;28mself\u001b[39m\u001b[38;5;241m.\u001b[39muser_ns[\u001b[38;5;124m'\u001b[39m\u001b[38;5;124m_exit_code\u001b[39m\u001b[38;5;124m'\u001b[39m] \u001b[38;5;241m=\u001b[39m \u001b[43msystem\u001b[49m\u001b[43m(\u001b[49m\u001b[38;5;28;43mself\u001b[39;49m\u001b[38;5;241;43m.\u001b[39;49m\u001b[43mvar_expand\u001b[49m\u001b[43m(\u001b[49m\u001b[43mcmd\u001b[49m\u001b[43m,\u001b[49m\u001b[43m \u001b[49m\u001b[43mdepth\u001b[49m\u001b[38;5;241;43m=\u001b[39;49m\u001b[38;5;241;43m1\u001b[39;49m\u001b[43m)\u001b[49m\u001b[43m)\u001b[49m\n",
            "File \u001b[0;32m/lib/python3.10/site-packages/IPython/utils/_process_posix.py:129\u001b[0m, in \u001b[0;36mProcessHandler.system\u001b[0;34m(self, cmd)\u001b[0m\n\u001b[1;32m    125\u001b[0m enc \u001b[38;5;241m=\u001b[39m DEFAULT_ENCODING\n\u001b[1;32m    127\u001b[0m \u001b[38;5;66;03m# Patterns to match on the output, for pexpect.  We read input and\u001b[39;00m\n\u001b[1;32m    128\u001b[0m \u001b[38;5;66;03m# allow either a short timeout or EOF\u001b[39;00m\n\u001b[0;32m--> 129\u001b[0m patterns \u001b[38;5;241m=\u001b[39m [\u001b[43mpexpect\u001b[49m\u001b[38;5;241;43m.\u001b[39;49m\u001b[43mTIMEOUT\u001b[49m, pexpect\u001b[38;5;241m.\u001b[39mEOF]\n\u001b[1;32m    130\u001b[0m \u001b[38;5;66;03m# the index of the EOF pattern in the list.\u001b[39;00m\n\u001b[1;32m    131\u001b[0m \u001b[38;5;66;03m# even though we know it's 1, this call means we don't have to worry if\u001b[39;00m\n\u001b[1;32m    132\u001b[0m \u001b[38;5;66;03m# we change the above list, and forget to change this value:\u001b[39;00m\n\u001b[1;32m    133\u001b[0m EOF_index \u001b[38;5;241m=\u001b[39m patterns\u001b[38;5;241m.\u001b[39mindex(pexpect\u001b[38;5;241m.\u001b[39mEOF)\n",
            "\u001b[0;31mAttributeError\u001b[0m: module 'pexpect' has no attribute 'TIMEOUT'"
          ],
          "output_type": "error"
        }
      ]
    },
    {
      "cell_type": "code",
      "source": "import numpy as np\nimport matplotlib.pyplot as plt\ntry:\n    import google.colab\nexcept:\n    import plotly.io as pio\n    pio.renderers.default = \"png\"\n\nimport gtsam\nfrom gtbook.display import show\nimport gtsam.utils.plot as gtsam_plot\n\nfrom gtsam import (LevenbergMarquardtOptimizer, LevenbergMarquardtParams,\n                   NonlinearFactorGraph, Point3, Values, noiseModel)\nfrom gtsam_unstable import Event, TimeOfArrival, TOAFactor",
      "metadata": {
        "id": "10-snNDwOSuC",
        "tags": [
          "remove-cell"
        ],
        "trusted": true
      },
      "execution_count": 1,
      "outputs": [
        {
          "ename": "<class 'ModuleNotFoundError'>",
          "evalue": "No module named 'plotly'",
          "traceback": [
            "\u001b[0;31m---------------------------------------------------------------------------\u001b[0m",
            "\u001b[0;31mModuleNotFoundError\u001b[0m                       Traceback (most recent call last)",
            "Input \u001b[0;32mIn [1]\u001b[0m, in \u001b[0;36m<cell line: 7>\u001b[0;34m()\u001b[0m\n\u001b[1;32m      7\u001b[0m \u001b[38;5;28;01mtry\u001b[39;00m:\n\u001b[0;32m----> 8\u001b[0m     \u001b[38;5;28;01mimport\u001b[39;00m \u001b[38;5;21;01mgoogle\u001b[39;00m\u001b[38;5;21;01m.\u001b[39;00m\u001b[38;5;21;01mcolab\u001b[39;00m\n\u001b[1;32m      9\u001b[0m \u001b[38;5;28;01mexcept\u001b[39;00m:\n",
            "\u001b[0;31mModuleNotFoundError\u001b[0m: No module named 'google'",
            "\nDuring handling of the above exception, another exception occurred:\n",
            "\u001b[0;31mModuleNotFoundError\u001b[0m                       Traceback (most recent call last)",
            "Input \u001b[0;32mIn [1]\u001b[0m, in \u001b[0;36m<cell line: 7>\u001b[0;34m()\u001b[0m\n\u001b[1;32m      8\u001b[0m     \u001b[38;5;28;01mimport\u001b[39;00m \u001b[38;5;21;01mgoogle\u001b[39;00m\u001b[38;5;21;01m.\u001b[39;00m\u001b[38;5;21;01mcolab\u001b[39;00m\n\u001b[1;32m      9\u001b[0m \u001b[38;5;28;01mexcept\u001b[39;00m:\n\u001b[0;32m---> 10\u001b[0m     \u001b[38;5;28;01mimport\u001b[39;00m \u001b[38;5;21;01mplotly\u001b[39;00m\u001b[38;5;21;01m.\u001b[39;00m\u001b[38;5;21;01mio\u001b[39;00m \u001b[38;5;28;01mas\u001b[39;00m \u001b[38;5;21;01mpio\u001b[39;00m\n\u001b[1;32m     11\u001b[0m     pio\u001b[38;5;241m.\u001b[39mrenderers\u001b[38;5;241m.\u001b[39mdefault \u001b[38;5;241m=\u001b[39m \u001b[38;5;124m\"\u001b[39m\u001b[38;5;124mpng\u001b[39m\u001b[38;5;124m\"\u001b[39m\n\u001b[1;32m     13\u001b[0m \u001b[38;5;28;01mimport\u001b[39;00m \u001b[38;5;21;01mgtsam\u001b[39;00m\n",
            "\u001b[0;31mModuleNotFoundError\u001b[0m: No module named 'plotly'"
          ],
          "output_type": "error"
        }
      ]
    },
    {
      "cell_type": "markdown",
      "source": "# Example trajectory\n\nWe start by defining the microphones position and create the ground truth trajectory along with sound events. We first define useful units.",
      "metadata": {
        "id": "nAvx4-UCNzt2",
        "tags": []
      }
    },
    {
      "cell_type": "code",
      "source": "MS = 1e-3 # 1 millisecond in s\nCM = 1e-2 # 1 centimeter in m",
      "metadata": {
        "trusted": true
      },
      "execution_count": 4,
      "outputs": []
    },
    {
      "cell_type": "markdown",
      "source": " Next, we istantiate a functor with a value $v = 330 m.s^{-1}$ for the speed of sound.",
      "metadata": {
        "id": "QpwKGbRylV-7"
      }
    },
    {
      "cell_type": "code",
      "source": "TIME_OF_ARRIVAL = TimeOfArrival(330)",
      "metadata": {
        "trusted": true
      },
      "execution_count": 5,
      "outputs": [
        {
          "ename": "<class 'NameError'>",
          "evalue": "name 'TimeOfArrival' is not defined",
          "traceback": [
            "\u001b[0;31m---------------------------------------------------------------------------\u001b[0m",
            "\u001b[0;31mNameError\u001b[0m                                 Traceback (most recent call last)",
            "Input \u001b[0;32mIn [5]\u001b[0m, in \u001b[0;36m<cell line: 1>\u001b[0;34m()\u001b[0m\n\u001b[0;32m----> 1\u001b[0m TIME_OF_ARRIVAL \u001b[38;5;241m=\u001b[39m \u001b[43mTimeOfArrival\u001b[49m(\u001b[38;5;241m330\u001b[39m)\n",
            "\u001b[0;31mNameError\u001b[0m: name 'TimeOfArrival' is not defined"
          ],
          "output_type": "error"
        }
      ]
    },
    {
      "cell_type": "markdown",
      "source": "We define the positions of four microphones that we constrain to lie in a horizontal plane (*i.e* with constant $z$ coordinate).",
      "metadata": {}
    },
    {
      "cell_type": "code",
      "source": "height = 0.5\nmicrophones = []\nmicrophones.append(Point3(0, 0, height))\nmicrophones.append(Point3(403 * CM, 0, height))\nmicrophones.append(Point3(403 * CM, 403 * CM, height))\nmicrophones.append(Point3(0, 403 * CM, 2 * height))\n\nK = len(microphones)\nfor i in range(K):\n    print(\"mic {} = {}\".format(i, microphones[i]))",
      "metadata": {
        "trusted": true
      },
      "execution_count": 6,
      "outputs": [
        {
          "ename": "<class 'NameError'>",
          "evalue": "name 'Point3' is not defined",
          "traceback": [
            "\u001b[0;31m---------------------------------------------------------------------------\u001b[0m",
            "\u001b[0;31mNameError\u001b[0m                                 Traceback (most recent call last)",
            "Input \u001b[0;32mIn [6]\u001b[0m, in \u001b[0;36m<cell line: 3>\u001b[0;34m()\u001b[0m\n\u001b[1;32m      1\u001b[0m height \u001b[38;5;241m=\u001b[39m \u001b[38;5;241m0.5\u001b[39m\n\u001b[1;32m      2\u001b[0m microphones \u001b[38;5;241m=\u001b[39m []\n\u001b[0;32m----> 3\u001b[0m microphones\u001b[38;5;241m.\u001b[39mappend(\u001b[43mPoint3\u001b[49m(\u001b[38;5;241m0\u001b[39m, \u001b[38;5;241m0\u001b[39m, height))\n\u001b[1;32m      4\u001b[0m microphones\u001b[38;5;241m.\u001b[39mappend(Point3(\u001b[38;5;241m403\u001b[39m \u001b[38;5;241m*\u001b[39m CM, \u001b[38;5;241m0\u001b[39m, height))\n\u001b[1;32m      5\u001b[0m microphones\u001b[38;5;241m.\u001b[39mappend(Point3(\u001b[38;5;241m403\u001b[39m \u001b[38;5;241m*\u001b[39m CM, \u001b[38;5;241m403\u001b[39m \u001b[38;5;241m*\u001b[39m CM, height))\n",
            "\u001b[0;31mNameError\u001b[0m: name 'Point3' is not defined"
          ],
          "output_type": "error"
        }
      ]
    },
    {
      "cell_type": "markdown",
      "source": "We subsequently create a ground truth trajectory for the moving sound emitter which follows a straight line, and specify the times at which a sound is emitted.",
      "metadata": {}
    },
    {
      "cell_type": "code",
      "source": "n = 5\ngroundTruth = []\ntimeOfEvent = 10\n\n# simulate emitting a sound every second while moving on straight line\nfor key in range(n):\n    groundTruth.append(\n        Event(timeOfEvent, 245 * CM + key * 1.0, 201.5 * CM, (212 - 45) * CM))\n    timeOfEvent += 1\n        \n#for event in groundTruth:\n#    event.print()",
      "metadata": {
        "tags": [],
        "trusted": true
      },
      "execution_count": 7,
      "outputs": [
        {
          "ename": "<class 'NameError'>",
          "evalue": "name 'Event' is not defined",
          "traceback": [
            "\u001b[0;31m---------------------------------------------------------------------------\u001b[0m",
            "\u001b[0;31mNameError\u001b[0m                                 Traceback (most recent call last)",
            "Input \u001b[0;32mIn [7]\u001b[0m, in \u001b[0;36m<cell line: 6>\u001b[0;34m()\u001b[0m\n\u001b[1;32m      5\u001b[0m \u001b[38;5;66;03m# simulate emitting a sound every second while moving on straight line\u001b[39;00m\n\u001b[1;32m      6\u001b[0m \u001b[38;5;28;01mfor\u001b[39;00m key \u001b[38;5;129;01min\u001b[39;00m \u001b[38;5;28mrange\u001b[39m(n):\n\u001b[1;32m      7\u001b[0m     groundTruth\u001b[38;5;241m.\u001b[39mappend(\n\u001b[0;32m----> 8\u001b[0m         \u001b[43mEvent\u001b[49m(timeOfEvent, \u001b[38;5;241m245\u001b[39m \u001b[38;5;241m*\u001b[39m CM \u001b[38;5;241m+\u001b[39m key \u001b[38;5;241m*\u001b[39m \u001b[38;5;241m1.0\u001b[39m, \u001b[38;5;241m201.5\u001b[39m \u001b[38;5;241m*\u001b[39m CM, (\u001b[38;5;241m212\u001b[39m \u001b[38;5;241m-\u001b[39m \u001b[38;5;241m45\u001b[39m) \u001b[38;5;241m*\u001b[39m CM))\n\u001b[1;32m      9\u001b[0m     timeOfEvent \u001b[38;5;241m+\u001b[39m\u001b[38;5;241m=\u001b[39m \u001b[38;5;241m1\u001b[39m\n",
            "\u001b[0;31mNameError\u001b[0m: name 'Event' is not defined"
          ],
          "output_type": "error"
        }
      ]
    },
    {
      "cell_type": "markdown",
      "source": "For visualization, we display the agent positions corresponding to an excitation event, along with the microphone array.",
      "metadata": {}
    },
    {
      "cell_type": "code",
      "source": "fig = plt.figure()\nplt.plot([mic[0] for mic in microphones], [mic[1] for mic in microphones], \"b.\", markersize=10, label=\"Microphones\")\nplt.plot([ev.location()[0] for ev in groundTruth], [ev.location()[1] for ev in groundTruth], \"s\", color=\"r\", markersize=5, linestyle=\"-\", lw=0.5, label=\"Source positions\")\nplt.xlabel(\"x [m]\"); plt.ylabel(\"y [m]\")\nplt.legend(); fig.show()",
      "metadata": {},
      "execution_count": null,
      "outputs": []
    },
    {
      "cell_type": "markdown",
      "source": "We can now simulate the time of arrival measurements based on the distance between each microphone and the moving sound source. To determine the (noise-free) ToA between microphone $j$ for the $i$-th source position, one may simply use the formula:\n\n$$ z_{i, j} = \\frac{d_{i, j}}{v}, $$\n\nwhere $d_{i, j}$ is the distance between them. Otherwise, the function TIME_OF_ARRIVAL.measure can take care of it.",
      "metadata": {}
    },
    {
      "cell_type": "code",
      "source": "def simulate_one_toa(microphones, event):\n    \"\"\"Simulate time-of-arrival measurements for a single event.\"\"\"\n    return [TIME_OF_ARRIVAL.measure(event, microphones[i])\n            for i in range(len(microphones))]\n\nsimulatedTOA = [simulate_one_toa(microphones, event)\n        for event in groundTruth]\n\nfor key in range(n):\n    for i in range(K):\n        print(\"z_{}{} = {} ms\".format(key, i, simulatedTOA[key][i] / MS))",
      "metadata": {
        "trusted": true
      },
      "execution_count": 8,
      "outputs": [
        {
          "ename": "<class 'NameError'>",
          "evalue": "name 'K' is not defined",
          "traceback": [
            "\u001b[0;31m---------------------------------------------------------------------------\u001b[0m",
            "\u001b[0;31mNameError\u001b[0m                                 Traceback (most recent call last)",
            "Input \u001b[0;32mIn [8]\u001b[0m, in \u001b[0;36m<cell line: 8>\u001b[0;34m()\u001b[0m\n\u001b[1;32m      6\u001b[0m simulatedTOA \u001b[38;5;241m=\u001b[39m [simulate_one_toa(microphones, event)\n\u001b[1;32m      7\u001b[0m         \u001b[38;5;28;01mfor\u001b[39;00m event \u001b[38;5;129;01min\u001b[39;00m groundTruth]\n\u001b[1;32m      8\u001b[0m \u001b[38;5;28;01mfor\u001b[39;00m key \u001b[38;5;129;01min\u001b[39;00m \u001b[38;5;28mrange\u001b[39m(n):\n\u001b[0;32m----> 9\u001b[0m     \u001b[38;5;28;01mfor\u001b[39;00m i \u001b[38;5;129;01min\u001b[39;00m \u001b[38;5;28mrange\u001b[39m(\u001b[43mK\u001b[49m):\n\u001b[1;32m     10\u001b[0m         \u001b[38;5;28mprint\u001b[39m(\u001b[38;5;124m\"\u001b[39m\u001b[38;5;124mz_\u001b[39m\u001b[38;5;132;01m{}\u001b[39;00m\u001b[38;5;132;01m{}\u001b[39;00m\u001b[38;5;124m = \u001b[39m\u001b[38;5;132;01m{}\u001b[39;00m\u001b[38;5;124m ms\u001b[39m\u001b[38;5;124m\"\u001b[39m\u001b[38;5;241m.\u001b[39mformat(key, i, simulatedTOA[key][i] \u001b[38;5;241m/\u001b[39m MS))\n",
            "\u001b[0;31mNameError\u001b[0m: name 'K' is not defined"
          ],
          "output_type": "error"
        }
      ]
    },
    {
      "cell_type": "markdown",
      "source": "# Creation of the nonlinear factor graph\n\nAs always, we create a factor graph to solve the problem at hand. ",
      "metadata": {}
    },
    {
      "cell_type": "code",
      "source": "graph = NonlinearFactorGraph()\n\n# Create a noise model for the TOA error\nmodel = noiseModel.Isotropic.Sigma(1, 0.5 * MS)\n\nK = len(microphones)\nkey = 0\nfor toa in simulatedTOA:\n    for i in range(K):\n        factor = TOAFactor(key, microphones[i], toa[i], model)\n        graph.push_back(factor)\n    key += 1\n        \nprint(graph.at(0))",
      "metadata": {
        "trusted": true
      },
      "execution_count": 9,
      "outputs": [
        {
          "ename": "<class 'NameError'>",
          "evalue": "name 'NonlinearFactorGraph' is not defined",
          "traceback": [
            "\u001b[0;31m---------------------------------------------------------------------------\u001b[0m",
            "\u001b[0;31mNameError\u001b[0m                                 Traceback (most recent call last)",
            "Input \u001b[0;32mIn [9]\u001b[0m, in \u001b[0;36m<cell line: 1>\u001b[0;34m()\u001b[0m\n\u001b[0;32m----> 1\u001b[0m graph \u001b[38;5;241m=\u001b[39m \u001b[43mNonlinearFactorGraph\u001b[49m()\n\u001b[1;32m      3\u001b[0m \u001b[38;5;66;03m# Create a noise model for the TOA error\u001b[39;00m\n\u001b[1;32m      4\u001b[0m model \u001b[38;5;241m=\u001b[39m noiseModel\u001b[38;5;241m.\u001b[39mIsotropic\u001b[38;5;241m.\u001b[39mSigma(\u001b[38;5;241m1\u001b[39m, \u001b[38;5;241m0.5\u001b[39m \u001b[38;5;241m*\u001b[39m MS)\n",
            "\u001b[0;31mNameError\u001b[0m: name 'NonlinearFactorGraph' is not defined"
          ],
          "output_type": "error"
        }
      ]
    },
    {
      "cell_type": "markdown",
      "source": "## Optimization and results\n\nThe optimizer needs to be provided an initial trajectory estimate.",
      "metadata": {}
    },
    {
      "cell_type": "code",
      "source": "initial_estimate = Values()\nzero = Event()\nfor key in range(n):\n    TOAFactor.InsertEvent(key, zero, initial_estimate)\nprint(initial_estimate)",
      "metadata": {},
      "execution_count": null,
      "outputs": []
    },
    {
      "cell_type": "markdown",
      "source": "The graph is optimized using the Levenberg-Marquardt optimizer.",
      "metadata": {}
    },
    {
      "cell_type": "code",
      "source": "params = LevenbergMarquardtParams()\nparams.setAbsoluteErrorTol(1e-10)\nparams.setVerbosityLM(\"SUMMARY\")\noptimizer = LevenbergMarquardtOptimizer(graph, initial_estimate, params)\nresult = optimizer.optimize()\nprint(\"Final Result:\\n\", result)",
      "metadata": {},
      "execution_count": null,
      "outputs": []
    },
    {
      "cell_type": "markdown",
      "source": "The visual representation of the result shows the excelent matching between estimated and ground truth positions.",
      "metadata": {}
    },
    {
      "cell_type": "code",
      "source": "# parsing the result to retrieve the estimated locations\nL = result.__repr__().split('\\n'); L = [L[ind] for ind in range(2, len(L), 2)]\nL = [l.split('location')[1].split()[1:] for l in L]\nestimated_trajectory = [ [float(coord.split('}')[0]) for coord in l] for l in L]\n\n# Display\nfig = plt.figure()\nplt.plot([mic[0] for mic in microphones], [mic[1] for mic in microphones], \"b.\", markersize=10, label=\"Microphones\")\nplt.plot([ev.location()[0] for ev in groundTruth], [ev.location()[1] for ev in groundTruth], \"s\", color=\"r\", markersize=5, linestyle=\"-\", lw=0.5, label=\"Source positions\")\nplt.plot([x[0] for x in estimated_trajectory], [x[1] for x in estimated_trajectory], \"s\", color=\"g\", markersize=5, linestyle=\"-\", lw=0.5, label=\"Estimated positions\")\nplt.xlabel(\"x [m]\"); plt.ylabel(\"y [m]\")\nplt.legend(); fig.show()",
      "metadata": {},
      "execution_count": null,
      "outputs": []
    }
  ]
}