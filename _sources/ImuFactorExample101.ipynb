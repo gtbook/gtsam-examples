{
  "metadata": {
    "interpreter": {
      "hash": "bd7d0fa04c741e40aa18fab4c46edf132bab64a0cf30e47c46fbb23f9b9c001f"
    },
    "kernelspec": {
      "name": "python",
      "display_name": "Pyolite",
      "language": "python"
    },
    "language_info": {
      "codemirror_mode": {
        "name": "python",
        "version": 3
      },
      "file_extension": ".py",
      "mimetype": "text/x-python",
      "name": "python",
      "nbconvert_exporter": "python",
      "pygments_lexer": "ipython3",
      "version": "3.8"
    }
  },
  "nbformat_minor": 4,
  "nbformat": 4,
  "cells": [
    {
      "cell_type": "markdown",
      "source": "# Inertial Estimation with Imu Preintegration\n\n<a href=\"https://colab.research.google.com/github/gtbook/gtsam-examples/blob/main/ImuFactorExample101.ipynb\" target=\"_parent\"><img src=\"https://colab.research.google.com/assets/colab-badge.svg\" alt=\"Open In Colab\"/></a>",
      "metadata": {}
    },
    {
      "cell_type": "markdown",
      "source": "## Background\n\nIMUs are powerful sensors capable of providing us with measurements on angular velocity and linear acceleration of the body at high frequencies (~200Hz and above). To estimate the pose of the body at any time, one can simply integrate the angular velocity to get the rotation and double-integrate the linear acceleration to get the velocity and translation.\n\n$$ R^w_b(t_j) = R^w_b(t_i)\\int^{t_j}_{t_i} exp(\\hat{\\omega}(t)) dt $$\n$$ v^w(t_j) = v^w(t_i) + \\int^{t_j}_{t_i} \\hat{a} dt $$\n$$ t^w(t_j) = \\int^{t_j}_{t_i} \\left( v^w(t_i) \\int^{t_j}_{t_i} \\hat{a}\\right) dt $$\n\nwhere $\\hat{\\omega}$ is the measured angular velocity and $\\hat{a}$ is the measured linear acceleration.\n\nAlas, things are not as straightforward as this. Unless you are using tactical or navigation grade IMUs (which cost \\$1000s), the sensor measurements will be noisy and affected by sensor bias $(b_{\\omega}, b_{a})$ that will cause the estimates to drift away from the true values. To correct for this, we need to optimize with consideration for the noise and bias values as part of our model.\n\nHowever, performing optimization at 200 Hz is a bit unrealistic and can quickly overwhelm the system, especially when we only need estimates every, e.g. 50 Hz. Can we instead account for multiple measurements between two estimation timestamps as a single binary constraint? The answer is yes and the methodology for that is developed in the [paper by Lupton and Sukkarieh](https://ieeexplore.ieee.org/document/5354267) and improved upon [by Forster et. al.](https://arxiv.org/pdf/1512.02363.pdf) which is termed as **IMU Preintegration**.\n\nLuckily for us, GTSAM has the `ImuFactor` which performs IMU preintegration for us in a neatly tied package, such that all we need to consider is the coordinate frame of the sensor with respect to the body, and providing the measurements for preintegration.",
      "metadata": {}
    },
    {
      "cell_type": "markdown",
      "source": "## Objectives\n\nIn this example, we shall examine how to use IMU preintegration for inertial estimation with factor graphs. Given a sequence of measurements, we will construct the factor graph and optimize it in order to get the desired pose estimates.",
      "metadata": {}
    },
    {
      "cell_type": "code",
      "source": "# Install the pre-requisites\n%pip -q install gtbook ipympl  # also installs latest gtsam pre-release",
      "metadata": {},
      "execution_count": null,
      "outputs": []
    },
    {
      "cell_type": "code",
      "source": "# All the imports we need\nimport numpy as np\nimport gtsam\nfrom gtsam.utils.plot import plot_pose3\nfrom matplotlib import pyplot as plt\nfrom gtsam.symbol_shorthand import B, V, X\nfrom gtbook.display import show\nfrom mpl_toolkits.mplot3d import Axes3D\n\ntry:\n  # For Google Colab\n  from google.colab import output\n  output.enable_custom_widget_manager()\n  print(\" -- Custom widgets enabled\")\nexcept:\n  pass\n\n# For interactive plots\n%matplotlib widget",
      "metadata": {},
      "execution_count": null,
      "outputs": []
    },
    {
      "cell_type": "markdown",
      "source": "## Example Trajectory\n\nLet's first generate an example trajectory we wish to estimate, as this will give us a good sense of what we want. We'll also visualize the trajectory with a little helper function.",
      "metadata": {}
    },
    {
      "cell_type": "code",
      "source": "T = 12  # The timespan of our trajectory.\ndt = 1e-2  # 100 Hz frequency\nvelocity = np.array([2, 0, 0])  # The velocity we wish to move at.\n\nscenarios = {\n    \"zero_twist\": (np.zeros(3), np.zeros(3)),  # Zero motion, stationary trajectory.\n    \"forward_motion\": (np.zeros(3), velocity),  # Move forward in the x axis at 2 m/s.\n    \"loop\": (np.array([0, -np.radians(30), 0]), velocity),  # A loop-de-loop trajectory.\n    \"sick\": (np.array([np.radians(30), -np.radians(30), 0]), velocity)  # A spiral trajectory, \"sick\" in surfer slang.\n}\n\n\ndef plot_scenario(scenario,\n                  T,\n                  dt,\n                  title=\"IMU trajectory scenario\",\n                  fignum=0,\n                  maxDim=5):\n    for t in np.arange(0, T, dt):\n        actualPose = scenario.pose(t)\n        plot_pose3(fignum, actualPose, axis_length=0.3)\n\n        translation = actualPose.translation()\n        maxDim = max([max(np.abs(translation)), maxDim])\n        ax = plt.gca()\n        ax.set_xlim3d(-maxDim, maxDim)\n        ax.set_ylim3d(-maxDim, maxDim)\n        ax.set_zlim3d(-maxDim, maxDim)\n        ax.set_title(title)\n\n    plt.show()",
      "metadata": {},
      "execution_count": null,
      "outputs": []
    },
    {
      "cell_type": "markdown",
      "source": "We can now plot the various scenarios, e.g. forward motion.",
      "metadata": {}
    },
    {
      "cell_type": "code",
      "source": "for idx, scenario_name in enumerate(scenarios.keys()):\n    scenario = gtsam.ConstantTwistScenario(*scenarios[scenario_name])\n    plot_scenario(scenario, T, dt, fignum=idx + 1, title=scenario_name)\n",
      "metadata": {},
      "execution_count": null,
      "outputs": []
    },
    {
      "cell_type": "markdown",
      "source": "Let's start with a simple trajectory to make understanding easier, so we will pick the __forward motion__ trajectory. As you will see later, the same approach works for all trajectories.",
      "metadata": {}
    },
    {
      "cell_type": "code",
      "source": "scenario = gtsam.ConstantTwistScenario(*scenarios[\"forward_motion\"])\n\n# Let's visualize it for our understanding\nplot_scenario(scenario, T, dt, title=\"Forward Motion\", fignum=5)",
      "metadata": {},
      "execution_count": null,
      "outputs": []
    },
    {
      "cell_type": "markdown",
      "source": "As a  final step in creating the example, we need to define the IMU biases.",
      "metadata": {}
    },
    {
      "cell_type": "code",
      "source": "accBias = np.array([-0.3, 0.1, 0.2])\ngyroBias = np.array([0.1, 0.3, -0.1])\nactualBias = gtsam.imuBias.ConstantBias(accBias, gyroBias)\n",
      "metadata": {},
      "execution_count": null,
      "outputs": []
    },
    {
      "cell_type": "markdown",
      "source": "## IMU Preintegration\n\nTo perform preintegration, GTSAM conveniently provides us with an object called `PreintegratedImuMeasurements`. This object requires various parameters such as the sensor covariances, an initial estimate of the bias, and a potential tranform `bodyPsensor` is the IMU is not coincidental with the body frame.\n\nWe begin with specifying that the IMU has the Z axis pointing up. This is important since reaction to gravity is an acceleration that is measured by the IMU, and making a mistake here can throw our entire system into jeopardy easily. We also specify some nominal covariance values, though these would depend on the IMU itself.\n\n Also, let's create a `ScenarioRunner` which is a helper object to get us the measurements as well as other parameters we need during the main data loop.",
      "metadata": {}
    },
    {
      "cell_type": "code",
      "source": "pim_params = gtsam.PreintegrationParams.MakeSharedU(9.81)\n\n# Some arbitrary noise sigmas\ngyro_sigma = 1e-3\naccel_sigma = 1e-3\nI_3x3 = np.eye(3)\npim_params.setGyroscopeCovariance(gyro_sigma**2 * I_3x3)\npim_params.setAccelerometerCovariance(accel_sigma**2 * I_3x3)\npim_params.setIntegrationCovariance(1e-7**2 * I_3x3)\n\n# Define the PreintegratedImuMeasurements object here.\npim = gtsam.PreintegratedImuMeasurements(pim_params, actualBias)\n\nrunner = gtsam.ScenarioRunner(scenario, pim_params, dt, actualBias)\nplot_scenario(scenario, T, dt, fignum=6)",
      "metadata": {},
      "execution_count": null,
      "outputs": []
    },
    {
      "cell_type": "markdown",
      "source": "We can define our main loop, where we accept the IMU measurements and create our `ImuFactor`s by preintegrating the measurements.",
      "metadata": {}
    },
    {
      "cell_type": "code",
      "source": "def main_loop(runner, scenario, graph, initial, T):\n    # The factor index for the estimation rate\n    i = 0\n\n    for k, t in enumerate(np.arange(0, T, dt)):\n        # get measurements and add them to PIM\n        measuredOmega = runner.measuredAngularVelocity(t)\n        measuredAcc = runner.measuredSpecificForce(t)\n\n        ### This is where all the magic happens!\n        pim.integrateMeasurement(measuredAcc, measuredOmega, dt)\n\n        if (k + 1) % int(1 / dt) == 0:\n            # Create IMU factor every second.\n            factor = gtsam.ImuFactor(X(i), V(i), X(i + 1), V(i + 1), B(0), pim)\n            graph.push_back(factor)\n\n            # We have created the binary constraint, so we clear out the preintegration values.\n            pim.resetIntegration()\n\n            # Get the true state which we will corrupt with some additive noise terms defined below\n            actual_state_i = scenario.navState(t + dt)\n\n            # These are additive noise terms.\n            rotationNoise = gtsam.Rot3.Expmap(np.random.randn(3) * 0.1)\n            translationNoise = gtsam.Point3(*np.random.randn(3) * 1)\n            poseNoise = gtsam.Pose3(rotationNoise, translationNoise)\n\n            noisy_state_i = gtsam.NavState(\n                actual_state_i.pose().compose(poseNoise),\n                actual_state_i.velocity() + np.random.randn(3) * 0.1)\n\n            initial.insert(X(i + 1), noisy_state_i.pose())\n            initial.insert(V(i + 1), noisy_state_i.velocity())\n            i += 1\n\n    return graph, initial",
      "metadata": {},
      "execution_count": null,
      "outputs": []
    },
    {
      "cell_type": "markdown",
      "source": "## Factor Graph\n\nWe are now ready to generate our factor graph. The `scenario` object will provide us with the measurements, and we will add a prior on the pose and the velocity to ensure our graph is not singular.",
      "metadata": {}
    },
    {
      "cell_type": "code",
      "source": "graph = gtsam.NonlinearFactorGraph()\ninitial = gtsam.Values()",
      "metadata": {},
      "execution_count": null,
      "outputs": []
    },
    {
      "cell_type": "markdown",
      "source": "Let's add in the priors to our graph as well as some initial estimates.",
      "metadata": {}
    },
    {
      "cell_type": "code",
      "source": "def add_priors(scenario, graph, initial):\n    # Noise models for\n    priorNoise = gtsam.noiseModel.Isotropic.Sigma(6, 0.1)\n    velNoise = gtsam.noiseModel.Isotropic.Sigma(3, 0.1)\n\n    initial_state = scenario.navState(0)\n    graph.push_back(\n        gtsam.PriorFactorPose3(X(0), initial_state.pose(), priorNoise))\n    graph.push_back(\n        gtsam.PriorFactorVector(V(0), initial_state.velocity(), velNoise))\n\n    initial.insert(B(0), actualBias)\n    initial.insert(X(0), initial_state.pose())\n    initial.insert(V(0), initial_state.velocity())\n\n    return graph, initial\n\n\ngraph, initial = add_priors(scenario, graph, initial)\n",
      "metadata": {},
      "execution_count": null,
      "outputs": []
    },
    {
      "cell_type": "markdown",
      "source": "Now with everything set up, we can run our main loop.",
      "metadata": {}
    },
    {
      "cell_type": "code",
      "source": "graph, initial = main_loop(runner, scenario, graph, initial, T)",
      "metadata": {},
      "execution_count": null,
      "outputs": []
    },
    {
      "cell_type": "markdown",
      "source": "We want to visualize our initial estimates, so let's create a small function to do so and plot out the initial trajectory based only on pure forward-integration. You will see that the initial estimates don't look like anything close to the true trajectory!",
      "metadata": {}
    },
    {
      "cell_type": "code",
      "source": "def plot_trajectory(values: gtsam.Values,\n                    title: str = \"Estimated Trajectory\",\n                    fignum: int = 1,\n                    show: bool = False):\n    i = 0\n    while values.exists(X(i)):\n        pose_i = values.atPose3(X(i))\n        plot_pose3(fignum, pose_i, 1)\n        i += 1\n    plt.title(title)\n\n    gtsam.utils.plot.set_axes_equal(fignum)\n\n    plt.ioff()\n\n    if show:\n        plt.show()\n\n\nplot_trajectory(initial, title=\"Initial Trajectory\", fignum=7, show=True)",
      "metadata": {},
      "execution_count": null,
      "outputs": []
    },
    {
      "cell_type": "markdown",
      "source": "## Optimization\n\nNow that we have a full factor graph and initial estimates, we can optimize for the correct estimates. This is as simple as just initializing an optimizer with the graph and initial values and calling `optimize` on it.",
      "metadata": {}
    },
    {
      "cell_type": "code",
      "source": "lm_params = gtsam.LevenbergMarquardtParams()\nlm_params.setVerbosityLM(\"SUMMARY\")\noptimizer = gtsam.LevenbergMarquardtOptimizer(graph, initial, lm_params)\nresult = optimizer.optimize()",
      "metadata": {},
      "execution_count": null,
      "outputs": []
    },
    {
      "cell_type": "markdown",
      "source": "## Final Result\n\nNow that we have our final `result` values, we can visualize the result and see that our estimates are actually quite good.",
      "metadata": {}
    },
    {
      "cell_type": "code",
      "source": "plot_trajectory(result, fignum=8, show=True)",
      "metadata": {},
      "execution_count": null,
      "outputs": []
    },
    {
      "cell_type": "markdown",
      "source": "## Other Scenarios\n\nWe can similarly run the same code above for other scenarios.",
      "metadata": {}
    },
    {
      "cell_type": "markdown",
      "source": "### Standing Scenario\n\nLet's use the `ImuFactorExample` for all the scenarios, starting with **Standing**.",
      "metadata": {}
    },
    {
      "cell_type": "code",
      "source": "scenario = gtsam.ConstantTwistScenario(*scenarios[\"zero_twist\"])\nplot_scenario(scenario, T, dt, title=\"Zero Twist\", fignum=9)\n\nrunner = gtsam.ScenarioRunner(scenario, pim_params, dt, actualBias)\n\n\ngraph = gtsam.NonlinearFactorGraph()\ninitial = gtsam.Values()\n\ngraph, initial = add_priors(scenario, graph, initial)\ngraph, initial = main_loop(runner, scenario, graph, initial, T)\n\noptimizer = gtsam.LevenbergMarquardtOptimizer(graph, initial, lm_params)\nresult = optimizer.optimize()\n\nplot_trajectory(initial, title=\"Initial Trajectory\", fignum=10, show=True)\nplot_trajectory(result, fignum=11, show=True)",
      "metadata": {},
      "execution_count": null,
      "outputs": []
    },
    {
      "cell_type": "markdown",
      "source": "### Loop Scenario",
      "metadata": {}
    },
    {
      "cell_type": "code",
      "source": "scenario = gtsam.ConstantTwistScenario(*scenarios[\"loop\"])\nplot_scenario(scenario, T, dt, title=\"Loop Scenario\", fignum=12)\n\nrunner = gtsam.ScenarioRunner(scenario, pim_params, dt, actualBias)\n\n\ngraph = gtsam.NonlinearFactorGraph()\ninitial = gtsam.Values()\n\ngraph, initial = add_priors(scenario, graph, initial)\ngraph, initial = main_loop(runner, scenario, graph, initial, T)\n\noptimizer = gtsam.LevenbergMarquardtOptimizer(graph, initial, lm_params)\nresult = optimizer.optimize()\n\nplot_trajectory(initial, title=\"Initial Trajectory\", fignum=13, show=True)\nplot_trajectory(result, fignum=14, show=True)",
      "metadata": {},
      "execution_count": null,
      "outputs": []
    },
    {
      "cell_type": "markdown",
      "source": "### Sick Scenario",
      "metadata": {}
    },
    {
      "cell_type": "code",
      "source": "scenario = gtsam.ConstantTwistScenario(*scenarios[\"sick\"])\nplot_scenario(scenario, T, dt, title=\"Sick Scenario\", fignum=15)\n\nrunner = gtsam.ScenarioRunner(scenario, pim_params, dt, actualBias)\n\n\ngraph = gtsam.NonlinearFactorGraph()\ninitial = gtsam.Values()\n\ngraph, initial = add_priors(scenario, graph, initial)\ngraph, initial = main_loop(runner, scenario, graph, initial, T)\n\noptimizer = gtsam.LevenbergMarquardtOptimizer(graph, initial, lm_params)\nresult = optimizer.optimize()\n\nplot_trajectory(initial, title=\"Initial Trajectory\", fignum=16, show=True)\nplot_trajectory(result, fignum=17, show=True)",
      "metadata": {},
      "execution_count": null,
      "outputs": []
    },
    {
      "cell_type": "markdown",
      "source": "## Conclusion\n\nThere you have it! Using the `PreintegratedImuMeasurements` object and combining it with the `ImuFactor` gives us a powerful and efficient mechanism for performing inertial estimation. GTSAM gives us useful abstractions for dealing with IMU measurements at much higher rates than the estimation rate, and allows us to optimize for the correct trajectory.",
      "metadata": {}
    }
  ]
}