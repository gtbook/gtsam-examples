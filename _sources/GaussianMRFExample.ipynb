{
 "cells": [
  {
   "cell_type": "markdown",
   "metadata": {},
   "source": [
    "<a href=\"https://colab.research.google.com/github/gtbook/gtsam-examples/blob/main/GaussianMRFExample.ipynb\" target=\"_parent\"><img src=\"https://colab.research.google.com/assets/colab-badge.svg\" alt=\"Open In Colab\"/></a>"
   ]
  },
  {
   "cell_type": "markdown",
   "metadata": {},
   "source": [
    "# Gaussian Markov Random Fields\n",
    "\n",
    "A Markov random field or MRF is an *undirected* graphical model where the energy is given by the som of unary and multi-variable potentials $\\psi$:\n",
    "\n",
    "$$\n",
    "E(X) = \\sum_j \\psi_j(x_j) + \\sum_c \\psi_c(X_c)\n",
    "$$\n",
    "\n",
    "where $j$ ranges over the variable nodes $x_j$ and $c$ indexes over cliques in the graph of variables. We use $X_c$ to denote all variables associated with clique $c$. A typical case is a pairwise Gaussian MRF, where\n",
    "\n",
    "- the $\\psi_j(x_j)$ are quadratic potentials $\\|A_j x_j-b_j\\|^2_{R_j}$ associated with measurements $b_j$.\n",
    "- the $\\psi_c(X_c)=\\psi_c(x_{j_1},x_{j_2})$ are pairwise potentials $\\|A_{j_1} x_{j_1}+A_{j_2} x_{j_2}-b_c\\|^2_{Q_c}$ over pairwise cliques $X_c=\\{x_{j_1},x_{j_2}\\}$, typically enforcing smoothness."
   ]
  },
  {
   "cell_type": "markdown",
   "metadata": {},
   "source": [
    "It will not surprise anyone, that Gaussian MRF's can easily and advantageously be represented using Gaussian factor graphs. Indeed, we can rewrite the energy $E(X)$ as\n",
    "\n",
    "$$\n",
    "E(X) = \\sum_i \\phi_i(X_i)\n",
    "$$\n",
    "\n",
    "where the factors $\\phi_i(X_i)$ encompass both unary and binary factors, and of course we can add arbitrary arity factors as well.\n",
    "\n",
    "Below we create a small \"image \"example, and show how we can solve it the same tools as the ones we used in the Kalman smoothing examples."
   ]
  },
  {
   "cell_type": "code",
   "execution_count": 1,
   "metadata": {},
   "outputs": [
    {
     "name": "stdout",
     "output_type": "stream",
     "text": [
      "Note: you may need to restart the kernel to use updated packages.\n"
     ]
    }
   ],
   "source": [
    "%pip -q install gtbook  # also installs latest gtsam pre-release"
   ]
  },
  {
   "cell_type": "code",
   "execution_count": 2,
   "metadata": {},
   "outputs": [],
   "source": [
    "import numpy as np\n",
    "\n",
    "import gtsam\n",
    "from gtbook.display import show\n",
    "from gtbook.gaussian import sample_bayes_net\n",
    "from gtsam import noiseModel"
   ]
  },
  {
   "cell_type": "markdown",
   "metadata": {},
   "source": [
    "## A Small \"Image\" MRF\n"
   ]
  },
  {
   "cell_type": "markdown",
   "metadata": {},
   "source": [
    "We first define the image dimensions and set up some keys referring to rows by a letter and columns by an integer:"
   ]
  },
  {
   "cell_type": "code",
   "execution_count": 3,
   "metadata": {},
   "outputs": [],
   "source": [
    "M, N = 3, 4  # try playing with this\n",
    "row_symbols = [chr(ord('a')+row) for row in range(M)]\n",
    "keys = {(row, col): gtsam.symbol(row_symbols[row], col+1)\n",
    "       for row in range(M) for col in range(N)}"
   ]
  },
  {
   "cell_type": "markdown",
   "metadata": {},
   "source": [
    "We create random data, and define a noise model for the data with the right  standard deviation:"
   ]
  },
  {
   "cell_type": "code",
   "execution_count": 4,
   "metadata": {},
   "outputs": [
    {
     "name": "stdout",
     "output_type": "stream",
     "text": [
      "data:\n",
      " [[ 0.15 -0.52  0.38  0.47]\n",
      " [-0.98 -0.65  0.06 -0.16]\n",
      " [-0.01 -0.43  0.44  0.39]]\n",
      "data_model=isotropic dim=1 sigma=0.5\n",
      "\n"
     ]
    }
   ],
   "source": [
    "sigma = 0.5\n",
    "rng = np.random.default_rng(42)\n",
    "data = rng.normal(loc=0, scale=sigma, size=(M, N, 1))\n",
    "data_model = noiseModel.Isotropic.Sigmas([sigma])\n",
    "print(\"data:\\n\", np.round(data[:,:,0],2))\n",
    "print(f\"{data_model=}\")"
   ]
  },
  {
   "cell_type": "markdown",
   "metadata": {},
   "source": [
    "For smoothness, we use a different noise model:"
   ]
  },
  {
   "cell_type": "code",
   "execution_count": 5,
   "metadata": {},
   "outputs": [
    {
     "name": "stdout",
     "output_type": "stream",
     "text": [
      "smoothness_model=isotropic dim=1 sigma=0.5\n",
      "\n"
     ]
    }
   ],
   "source": [
    "smoothness_sigma = 0.5\n",
    "smoothness_model = noiseModel.Isotropic.Sigmas([smoothness_sigma])\n",
    "print(f\"{smoothness_model=}\")"
   ]
  },
  {
   "cell_type": "markdown",
   "metadata": {},
   "source": [
    "Then we create the factor graph:"
   ]
  },
  {
   "cell_type": "code",
   "execution_count": 6,
   "metadata": {},
   "outputs": [],
   "source": [
    "I = np.eye(1, 1, dtype=float)\n",
    "zero = np.zeros((1,1))\n",
    "graph = gtsam.GaussianFactorGraph()\n",
    "for row in range(M):\n",
    "    for col in range(N):\n",
    "        # add data terms:\n",
    "        j = keys[(row,col)]\n",
    "        graph.add(j, I, np.array(data[row,col]), data_model)\n",
    "        # add smoothness terms:\n",
    "        if col>0:\n",
    "            j1 = keys[(row,col-1)]\n",
    "            graph.add(j, I, j1, -I, zero, smoothness_model)\n",
    "        if row>0:\n",
    "            j2 = keys[(row-1,col)]\n",
    "            graph.add(j, I, j2, -I, zero, smoothness_model)"
   ]
  },
  {
   "cell_type": "markdown",
   "metadata": {},
   "source": [
    "We can display the graph, although graphviz (our graph plotting engine) does not respect the \"image\" nature. Note that we omit the \"dot\" for binary factors, which both reveals the undirected MRF and is easier on the eye."
   ]
  },
  {
   "cell_type": "code",
   "execution_count": 7,
   "metadata": {},
   "outputs": [
    {
     "data": {
      "image/svg+xml": "<?xml version=\"1.0\" encoding=\"UTF-8\" standalone=\"no\"?>\n<!DOCTYPE svg PUBLIC \"-//W3C//DTD SVG 1.1//EN\"\n \"http://www.w3.org/Graphics/SVG/1.1/DTD/svg11.dtd\">\n<!-- Generated by graphviz version 2.50.0 (0)\n -->\n<!-- Pages: 1 -->\n<svg width=\"222pt\" height=\"360pt\"\n viewBox=\"0.00 0.00 222.20 360.00\" xmlns=\"http://www.w3.org/2000/svg\" xmlns:xlink=\"http://www.w3.org/1999/xlink\">\n<g id=\"graph0\" class=\"graph\" transform=\"scale(0.81 0.81) rotate(0) translate(4 439.6)\">\n<polygon fill=\"white\" stroke=\"transparent\" points=\"-4,4 -4,-439.6 269.8,-439.6 269.8,4 -4,4\"/>\n<!-- vara1 -->\n<g id=\"node1\" class=\"node\">\n<title>vara1</title>\n<ellipse fill=\"none\" stroke=\"black\" cx=\"145\" cy=\"-57.6\" rx=\"27\" ry=\"18\"/>\n<text text-anchor=\"middle\" x=\"145\" y=\"-53.9\" font-family=\"Times,serif\" font-size=\"14.00\">a1</text>\n</g>\n<!-- factor0 -->\n<g id=\"node13\" class=\"node\">\n<title>factor0</title>\n<ellipse fill=\"black\" stroke=\"black\" cx=\"145\" cy=\"-1.8\" rx=\"1.8\" ry=\"1.8\"/>\n</g>\n<!-- vara1&#45;&#45;factor0 -->\n<g id=\"edge1\" class=\"edge\">\n<title>vara1&#45;&#45;factor0</title>\n<path fill=\"none\" stroke=\"black\" d=\"M145,-39.58C145,-25.79 145,-7.97 145,-3.73\"/>\n</g>\n<!-- vara2 -->\n<g id=\"node2\" class=\"node\">\n<title>vara2</title>\n<ellipse fill=\"none\" stroke=\"black\" cx=\"98\" cy=\"-129.6\" rx=\"27\" ry=\"18\"/>\n<text text-anchor=\"middle\" x=\"98\" y=\"-125.9\" font-family=\"Times,serif\" font-size=\"14.00\">a2</text>\n</g>\n<!-- vara2&#45;&#45;vara1 -->\n<g id=\"edge3\" class=\"edge\">\n<title>vara2&#45;&#45;vara1</title>\n<path fill=\"none\" stroke=\"black\" d=\"M108.67,-112.72C116.36,-101.26 126.7,-85.86 134.38,-74.42\"/>\n</g>\n<!-- factor1 -->\n<g id=\"node14\" class=\"node\">\n<title>factor1</title>\n<ellipse fill=\"black\" stroke=\"black\" cx=\"98\" cy=\"-57.6\" rx=\"1.8\" ry=\"1.8\"/>\n</g>\n<!-- vara2&#45;&#45;factor1 -->\n<g id=\"edge2\" class=\"edge\">\n<title>vara2&#45;&#45;factor1</title>\n<path fill=\"none\" stroke=\"black\" d=\"M98,-111.3C98,-92.51 98,-64.5 98,-59.41\"/>\n</g>\n<!-- vara3 -->\n<g id=\"node3\" class=\"node\">\n<title>vara3</title>\n<ellipse fill=\"none\" stroke=\"black\" cx=\"51\" cy=\"-201.6\" rx=\"27\" ry=\"18\"/>\n<text text-anchor=\"middle\" x=\"51\" y=\"-197.9\" font-family=\"Times,serif\" font-size=\"14.00\">a3</text>\n</g>\n<!-- vara3&#45;&#45;vara2 -->\n<g id=\"edge5\" class=\"edge\">\n<title>vara3&#45;&#45;vara2</title>\n<path fill=\"none\" stroke=\"black\" d=\"M61.67,-184.72C69.36,-173.26 79.7,-157.86 87.38,-146.42\"/>\n</g>\n<!-- factor3 -->\n<g id=\"node15\" class=\"node\">\n<title>factor3</title>\n<ellipse fill=\"black\" stroke=\"black\" cx=\"51\" cy=\"-129.6\" rx=\"1.8\" ry=\"1.8\"/>\n</g>\n<!-- vara3&#45;&#45;factor3 -->\n<g id=\"edge4\" class=\"edge\">\n<title>vara3&#45;&#45;factor3</title>\n<path fill=\"none\" stroke=\"black\" d=\"M51,-183.3C51,-164.51 51,-136.5 51,-131.41\"/>\n</g>\n<!-- vara4 -->\n<g id=\"node4\" class=\"node\">\n<title>vara4</title>\n<ellipse fill=\"none\" stroke=\"black\" cx=\"27\" cy=\"-273.6\" rx=\"27\" ry=\"18\"/>\n<text text-anchor=\"middle\" x=\"27\" y=\"-269.9\" font-family=\"Times,serif\" font-size=\"14.00\">a4</text>\n</g>\n<!-- vara4&#45;&#45;vara3 -->\n<g id=\"edge7\" class=\"edge\">\n<title>vara4&#45;&#45;vara3</title>\n<path fill=\"none\" stroke=\"black\" d=\"M32.81,-255.65C36.58,-244.65 41.48,-230.36 45.24,-219.39\"/>\n</g>\n<!-- factor5 -->\n<g id=\"node16\" class=\"node\">\n<title>factor5</title>\n<ellipse fill=\"black\" stroke=\"black\" cx=\"4\" cy=\"-201.6\" rx=\"1.8\" ry=\"1.8\"/>\n</g>\n<!-- vara4&#45;&#45;factor5 -->\n<g id=\"edge6\" class=\"edge\">\n<title>vara4&#45;&#45;factor5</title>\n<path fill=\"none\" stroke=\"black\" d=\"M21.43,-255.65C15.26,-236.88 5.96,-208.56 4.27,-203.42\"/>\n</g>\n<!-- varb1 -->\n<g id=\"node5\" class=\"node\">\n<title>varb1</title>\n<ellipse fill=\"none\" stroke=\"black\" cx=\"192\" cy=\"-129.6\" rx=\"27\" ry=\"18\"/>\n<text text-anchor=\"middle\" x=\"192\" y=\"-125.9\" font-family=\"Times,serif\" font-size=\"14.00\">b1</text>\n</g>\n<!-- varb1&#45;&#45;vara1 -->\n<g id=\"edge9\" class=\"edge\">\n<title>varb1&#45;&#45;vara1</title>\n<path fill=\"none\" stroke=\"black\" d=\"M181.33,-112.72C173.64,-101.26 163.3,-85.86 155.62,-74.42\"/>\n</g>\n<!-- factor7 -->\n<g id=\"node17\" class=\"node\">\n<title>factor7</title>\n<ellipse fill=\"black\" stroke=\"black\" cx=\"192\" cy=\"-57.6\" rx=\"1.8\" ry=\"1.8\"/>\n</g>\n<!-- varb1&#45;&#45;factor7 -->\n<g id=\"edge8\" class=\"edge\">\n<title>varb1&#45;&#45;factor7</title>\n<path fill=\"none\" stroke=\"black\" d=\"M192,-111.3C192,-92.51 192,-64.5 192,-59.41\"/>\n</g>\n<!-- varb2 -->\n<g id=\"node6\" class=\"node\">\n<title>varb2</title>\n<ellipse fill=\"none\" stroke=\"black\" cx=\"145\" cy=\"-201.6\" rx=\"27\" ry=\"18\"/>\n<text text-anchor=\"middle\" x=\"145\" y=\"-197.9\" font-family=\"Times,serif\" font-size=\"14.00\">b2</text>\n</g>\n<!-- varb2&#45;&#45;vara2 -->\n<g id=\"edge12\" class=\"edge\">\n<title>varb2&#45;&#45;vara2</title>\n<path fill=\"none\" stroke=\"black\" d=\"M134.33,-184.72C126.64,-173.26 116.3,-157.86 108.62,-146.42\"/>\n</g>\n<!-- varb2&#45;&#45;varb1 -->\n<g id=\"edge11\" class=\"edge\">\n<title>varb2&#45;&#45;varb1</title>\n<path fill=\"none\" stroke=\"black\" d=\"M155.67,-184.72C163.36,-173.26 173.7,-157.86 181.38,-146.42\"/>\n</g>\n<!-- factor9 -->\n<g id=\"node18\" class=\"node\">\n<title>factor9</title>\n<ellipse fill=\"black\" stroke=\"black\" cx=\"145\" cy=\"-129.6\" rx=\"1.8\" ry=\"1.8\"/>\n</g>\n<!-- varb2&#45;&#45;factor9 -->\n<g id=\"edge10\" class=\"edge\">\n<title>varb2&#45;&#45;factor9</title>\n<path fill=\"none\" stroke=\"black\" d=\"M145,-183.3C145,-164.51 145,-136.5 145,-131.41\"/>\n</g>\n<!-- varb3 -->\n<g id=\"node7\" class=\"node\">\n<title>varb3</title>\n<ellipse fill=\"none\" stroke=\"black\" cx=\"121\" cy=\"-273.6\" rx=\"27\" ry=\"18\"/>\n<text text-anchor=\"middle\" x=\"121\" y=\"-269.9\" font-family=\"Times,serif\" font-size=\"14.00\">b3</text>\n</g>\n<!-- varb3&#45;&#45;vara3 -->\n<g id=\"edge15\" class=\"edge\">\n<title>varb3&#45;&#45;vara3</title>\n<path fill=\"none\" stroke=\"black\" d=\"M106.5,-258.1C94.48,-246.08 77.49,-229.09 65.49,-217.09\"/>\n</g>\n<!-- varb3&#45;&#45;varb2 -->\n<g id=\"edge14\" class=\"edge\">\n<title>varb3&#45;&#45;varb2</title>\n<path fill=\"none\" stroke=\"black\" d=\"M126.81,-255.65C130.58,-244.65 135.48,-230.36 139.24,-219.39\"/>\n</g>\n<!-- factor12 -->\n<g id=\"node19\" class=\"node\">\n<title>factor12</title>\n<ellipse fill=\"black\" stroke=\"black\" cx=\"98\" cy=\"-201.6\" rx=\"1.8\" ry=\"1.8\"/>\n</g>\n<!-- varb3&#45;&#45;factor12 -->\n<g id=\"edge13\" class=\"edge\">\n<title>varb3&#45;&#45;factor12</title>\n<path fill=\"none\" stroke=\"black\" d=\"M115.43,-255.65C109.26,-236.88 99.96,-208.56 98.27,-203.42\"/>\n</g>\n<!-- varb4 -->\n<g id=\"node8\" class=\"node\">\n<title>varb4</title>\n<ellipse fill=\"none\" stroke=\"black\" cx=\"97\" cy=\"-345.6\" rx=\"27\" ry=\"18\"/>\n<text text-anchor=\"middle\" x=\"97\" y=\"-341.9\" font-family=\"Times,serif\" font-size=\"14.00\">b4</text>\n</g>\n<!-- varb4&#45;&#45;vara4 -->\n<g id=\"edge18\" class=\"edge\">\n<title>varb4&#45;&#45;vara4</title>\n<path fill=\"none\" stroke=\"black\" d=\"M82.5,-330.1C70.48,-318.08 53.49,-301.09 41.49,-289.09\"/>\n</g>\n<!-- varb4&#45;&#45;varb3 -->\n<g id=\"edge17\" class=\"edge\">\n<title>varb4&#45;&#45;varb3</title>\n<path fill=\"none\" stroke=\"black\" d=\"M102.81,-327.65C106.58,-316.65 111.48,-302.36 115.24,-291.39\"/>\n</g>\n<!-- factor15 -->\n<g id=\"node20\" class=\"node\">\n<title>factor15</title>\n<ellipse fill=\"black\" stroke=\"black\" cx=\"74\" cy=\"-273.6\" rx=\"1.8\" ry=\"1.8\"/>\n</g>\n<!-- varb4&#45;&#45;factor15 -->\n<g id=\"edge16\" class=\"edge\">\n<title>varb4&#45;&#45;factor15</title>\n<path fill=\"none\" stroke=\"black\" d=\"M91.43,-327.65C85.26,-308.88 75.96,-280.56 74.27,-275.42\"/>\n</g>\n<!-- varc1 -->\n<g id=\"node9\" class=\"node\">\n<title>varc1</title>\n<ellipse fill=\"none\" stroke=\"black\" cx=\"217\" cy=\"-201.6\" rx=\"27\" ry=\"18\"/>\n<text text-anchor=\"middle\" x=\"217\" y=\"-197.9\" font-family=\"Times,serif\" font-size=\"14.00\">c1</text>\n</g>\n<!-- varc1&#45;&#45;varb1 -->\n<g id=\"edge20\" class=\"edge\">\n<title>varc1&#45;&#45;varb1</title>\n<path fill=\"none\" stroke=\"black\" d=\"M211.08,-184.01C207.15,-173.01 202.01,-158.63 198.06,-147.56\"/>\n</g>\n<!-- factor18 -->\n<g id=\"node21\" class=\"node\">\n<title>factor18</title>\n<ellipse fill=\"black\" stroke=\"black\" cx=\"239\" cy=\"-129.6\" rx=\"1.8\" ry=\"1.8\"/>\n</g>\n<!-- varc1&#45;&#45;factor18 -->\n<g id=\"edge19\" class=\"edge\">\n<title>varc1&#45;&#45;factor18</title>\n<path fill=\"none\" stroke=\"black\" d=\"M222.33,-183.65C228.23,-164.88 237.13,-136.56 238.74,-131.42\"/>\n</g>\n<!-- varc2 -->\n<g id=\"node10\" class=\"node\">\n<title>varc2</title>\n<ellipse fill=\"none\" stroke=\"black\" cx=\"193\" cy=\"-273.6\" rx=\"27\" ry=\"18\"/>\n<text text-anchor=\"middle\" x=\"193\" y=\"-269.9\" font-family=\"Times,serif\" font-size=\"14.00\">c2</text>\n</g>\n<!-- varc2&#45;&#45;varb2 -->\n<g id=\"edge23\" class=\"edge\">\n<title>varc2&#45;&#45;varb2</title>\n<path fill=\"none\" stroke=\"black\" d=\"M182.11,-256.72C174.25,-245.26 163.69,-229.86 155.85,-218.42\"/>\n</g>\n<!-- varc2&#45;&#45;varc1 -->\n<g id=\"edge22\" class=\"edge\">\n<title>varc2&#45;&#45;varc1</title>\n<path fill=\"none\" stroke=\"black\" d=\"M198.81,-255.65C202.58,-244.65 207.48,-230.36 211.24,-219.39\"/>\n</g>\n<!-- factor20 -->\n<g id=\"node22\" class=\"node\">\n<title>factor20</title>\n<ellipse fill=\"black\" stroke=\"black\" cx=\"264\" cy=\"-201.6\" rx=\"1.8\" ry=\"1.8\"/>\n</g>\n<!-- varc2&#45;&#45;factor20 -->\n<g id=\"edge21\" class=\"edge\">\n<title>varc2&#45;&#45;factor20</title>\n<path fill=\"none\" stroke=\"black\" d=\"M210.17,-259.54C222.83,-249.43 240.03,-234.66 253,-219.6 257.77,-214.06 262.05,-206.3 263.49,-203.58\"/>\n</g>\n<!-- varc3 -->\n<g id=\"node11\" class=\"node\">\n<title>varc3</title>\n<ellipse fill=\"none\" stroke=\"black\" cx=\"181\" cy=\"-345.6\" rx=\"27\" ry=\"18\"/>\n<text text-anchor=\"middle\" x=\"181\" y=\"-341.9\" font-family=\"Times,serif\" font-size=\"14.00\">c3</text>\n</g>\n<!-- varc3&#45;&#45;varb3 -->\n<g id=\"edge26\" class=\"edge\">\n<title>varc3&#45;&#45;varb3</title>\n<path fill=\"none\" stroke=\"black\" d=\"M167.98,-329.41C157.92,-317.67 144.05,-301.49 133.99,-289.76\"/>\n</g>\n<!-- varc3&#45;&#45;varc2 -->\n<g id=\"edge25\" class=\"edge\">\n<title>varc3&#45;&#45;varc2</title>\n<path fill=\"none\" stroke=\"black\" d=\"M183.9,-327.65C185.76,-316.81 188.17,-302.78 190.04,-291.88\"/>\n</g>\n<!-- factor23 -->\n<g id=\"node23\" class=\"node\">\n<title>factor23</title>\n<ellipse fill=\"black\" stroke=\"black\" cx=\"240\" cy=\"-273.6\" rx=\"1.8\" ry=\"1.8\"/>\n</g>\n<!-- varc3&#45;&#45;factor23 -->\n<g id=\"edge24\" class=\"edge\">\n<title>varc3&#45;&#45;factor23</title>\n<path fill=\"none\" stroke=\"black\" d=\"M195.54,-329.86C205.43,-319.52 218.56,-305.18 229,-291.6 233.45,-285.8 237.93,-278.2 239.45,-275.56\"/>\n</g>\n<!-- varc4 -->\n<g id=\"node12\" class=\"node\">\n<title>varc4</title>\n<ellipse fill=\"none\" stroke=\"black\" cx=\"181\" cy=\"-417.6\" rx=\"27\" ry=\"18\"/>\n<text text-anchor=\"middle\" x=\"181\" y=\"-413.9\" font-family=\"Times,serif\" font-size=\"14.00\">c4</text>\n</g>\n<!-- varc4&#45;&#45;varb4 -->\n<g id=\"edge29\" class=\"edge\">\n<title>varc4&#45;&#45;varb4</title>\n<path fill=\"none\" stroke=\"black\" d=\"M164.8,-403.1C149.93,-390.71 128.01,-372.44 113.15,-360.06\"/>\n</g>\n<!-- varc4&#45;&#45;varc3 -->\n<g id=\"edge28\" class=\"edge\">\n<title>varc4&#45;&#45;varc3</title>\n<path fill=\"none\" stroke=\"black\" d=\"M181,-399.3C181,-388.45 181,-374.52 181,-363.7\"/>\n</g>\n<!-- factor26 -->\n<g id=\"node24\" class=\"node\">\n<title>factor26</title>\n<ellipse fill=\"black\" stroke=\"black\" cx=\"228\" cy=\"-345.6\" rx=\"1.8\" ry=\"1.8\"/>\n</g>\n<!-- varc4&#45;&#45;factor26 -->\n<g id=\"edge27\" class=\"edge\">\n<title>varc4&#45;&#45;factor26</title>\n<path fill=\"none\" stroke=\"black\" d=\"M191.8,-400.89C199,-390.38 208.64,-376.21 217,-363.6 221.04,-357.51 225.78,-350.09 227.41,-347.53\"/>\n</g>\n</g>\n</svg>\n",
      "text/plain": [
       "<gtbook.display.show at 0x10ab14e80>"
      ]
     },
     "execution_count": 7,
     "metadata": {},
     "output_type": "execute_result"
    }
   ],
   "source": [
    "position_hints = {c:float(-i) for i,c in enumerate(row_symbols)}\n",
    "show(graph, binary_edges=True) # you can add hints=position_hints for a different view"
   ]
  },
  {
   "cell_type": "markdown",
   "id": "e59dca51",
   "metadata": {},
   "source": [
    "## Inference using a Direct Solver\n",
    "\n",
    "As in Kalman smoothing, we can use multi-frontal elimination, using a \"nested dissection\" ordering:"
   ]
  },
  {
   "cell_type": "code",
   "execution_count": 8,
   "id": "789bd863",
   "metadata": {},
   "outputs": [
    {
     "data": {
      "image/svg+xml": "<?xml version=\"1.0\" encoding=\"UTF-8\" standalone=\"no\"?>\n<!DOCTYPE svg PUBLIC \"-//W3C//DTD SVG 1.1//EN\"\n \"http://www.w3.org/Graphics/SVG/1.1/DTD/svg11.dtd\">\n<!-- Generated by graphviz version 2.50.0 (0)\n -->\n<!-- Title: G Pages: 1 -->\n<svg width=\"519pt\" height=\"188pt\"\n viewBox=\"0.00 0.00 519.14 188.00\" xmlns=\"http://www.w3.org/2000/svg\" xmlns:xlink=\"http://www.w3.org/1999/xlink\">\n<g id=\"graph0\" class=\"graph\" transform=\"scale(1 1) rotate(0) translate(4 184)\">\n<title>G</title>\n<polygon fill=\"white\" stroke=\"transparent\" points=\"-4,4 -4,-184 515.14,-184 515.14,4 -4,4\"/>\n<!-- 0 -->\n<g id=\"node1\" class=\"node\">\n<title>0</title>\n<ellipse fill=\"none\" stroke=\"black\" cx=\"205.39\" cy=\"-162\" rx=\"59.59\" ry=\"18\"/>\n<text text-anchor=\"middle\" x=\"205.39\" y=\"-158.3\" font-family=\"Times,serif\" font-size=\"14.00\">b1, a3, b2, c3</text>\n</g>\n<!-- 1 -->\n<g id=\"node2\" class=\"node\">\n<title>1</title>\n<ellipse fill=\"none\" stroke=\"black\" cx=\"62.39\" cy=\"-90\" rx=\"62.29\" ry=\"18\"/>\n<text text-anchor=\"middle\" x=\"62.39\" y=\"-86.3\" font-family=\"Times,serif\" font-size=\"14.00\">a1 : a3, b1, b2</text>\n</g>\n<!-- 0&#45;&gt;1 -->\n<g id=\"edge1\" class=\"edge\">\n<title>0&#45;&gt;1</title>\n<path fill=\"none\" stroke=\"black\" d=\"M175.42,-146.33C154.11,-135.9 125.28,-121.78 102.06,-110.42\"/>\n<polygon fill=\"black\" stroke=\"black\" points=\"103.35,-107.15 92.82,-105.9 100.27,-113.44 103.35,-107.15\"/>\n</g>\n<!-- 3 -->\n<g id=\"node4\" class=\"node\">\n<title>3</title>\n<ellipse fill=\"none\" stroke=\"black\" cx=\"205.39\" cy=\"-90\" rx=\"62.29\" ry=\"18\"/>\n<text text-anchor=\"middle\" x=\"205.39\" y=\"-86.3\" font-family=\"Times,serif\" font-size=\"14.00\">c1 : b1, b2, c3</text>\n</g>\n<!-- 0&#45;&gt;3 -->\n<g id=\"edge3\" class=\"edge\">\n<title>0&#45;&gt;3</title>\n<path fill=\"none\" stroke=\"black\" d=\"M205.39,-143.7C205.39,-135.98 205.39,-126.71 205.39,-118.11\"/>\n<polygon fill=\"black\" stroke=\"black\" points=\"208.89,-118.1 205.39,-108.1 201.89,-118.1 208.89,-118.1\"/>\n</g>\n<!-- 5 -->\n<g id=\"node6\" class=\"node\">\n<title>5</title>\n<ellipse fill=\"none\" stroke=\"black\" cx=\"361.39\" cy=\"-90\" rx=\"76.09\" ry=\"18\"/>\n<text text-anchor=\"middle\" x=\"361.39\" y=\"-86.3\" font-family=\"Times,serif\" font-size=\"14.00\">b3, b4 : a3, b2, c3</text>\n</g>\n<!-- 0&#45;&gt;5 -->\n<g id=\"edge5\" class=\"edge\">\n<title>0&#45;&gt;5</title>\n<path fill=\"none\" stroke=\"black\" d=\"M237.34,-146.67C260.76,-136.16 292.81,-121.77 318.47,-110.26\"/>\n<polygon fill=\"black\" stroke=\"black\" points=\"319.91,-113.45 327.6,-106.16 317.05,-107.06 319.91,-113.45\"/>\n</g>\n<!-- 2 -->\n<g id=\"node3\" class=\"node\">\n<title>2</title>\n<ellipse fill=\"none\" stroke=\"black\" cx=\"62.39\" cy=\"-18\" rx=\"61.99\" ry=\"18\"/>\n<text text-anchor=\"middle\" x=\"62.39\" y=\"-14.3\" font-family=\"Times,serif\" font-size=\"14.00\">a2 : a1, a3, b2</text>\n</g>\n<!-- 1&#45;&gt;2 -->\n<g id=\"edge2\" class=\"edge\">\n<title>1&#45;&gt;2</title>\n<path fill=\"none\" stroke=\"black\" d=\"M62.39,-71.7C62.39,-63.98 62.39,-54.71 62.39,-46.11\"/>\n<polygon fill=\"black\" stroke=\"black\" points=\"65.89,-46.1 62.39,-36.1 58.89,-46.1 65.89,-46.1\"/>\n</g>\n<!-- 4 -->\n<g id=\"node5\" class=\"node\">\n<title>4</title>\n<ellipse fill=\"none\" stroke=\"black\" cx=\"205.39\" cy=\"-18\" rx=\"61.99\" ry=\"18\"/>\n<text text-anchor=\"middle\" x=\"205.39\" y=\"-14.3\" font-family=\"Times,serif\" font-size=\"14.00\">c2 : b2, c1, c3</text>\n</g>\n<!-- 3&#45;&gt;4 -->\n<g id=\"edge4\" class=\"edge\">\n<title>3&#45;&gt;4</title>\n<path fill=\"none\" stroke=\"black\" d=\"M205.39,-71.7C205.39,-63.98 205.39,-54.71 205.39,-46.11\"/>\n<polygon fill=\"black\" stroke=\"black\" points=\"208.89,-46.1 205.39,-36.1 201.89,-46.1 208.89,-46.1\"/>\n</g>\n<!-- 6 -->\n<g id=\"node7\" class=\"node\">\n<title>6</title>\n<ellipse fill=\"none\" stroke=\"black\" cx=\"347.39\" cy=\"-18\" rx=\"48.99\" ry=\"18\"/>\n<text text-anchor=\"middle\" x=\"347.39\" y=\"-14.3\" font-family=\"Times,serif\" font-size=\"14.00\">a4 : a3, b4</text>\n</g>\n<!-- 5&#45;&gt;6 -->\n<g id=\"edge6\" class=\"edge\">\n<title>5&#45;&gt;6</title>\n<path fill=\"none\" stroke=\"black\" d=\"M357.93,-71.7C356.39,-63.98 354.54,-54.71 352.82,-46.11\"/>\n<polygon fill=\"black\" stroke=\"black\" points=\"356.21,-45.22 350.82,-36.1 349.34,-46.6 356.21,-45.22\"/>\n</g>\n<!-- 7 -->\n<g id=\"node8\" class=\"node\">\n<title>7</title>\n<ellipse fill=\"none\" stroke=\"black\" cx=\"462.39\" cy=\"-18\" rx=\"48.99\" ry=\"18\"/>\n<text text-anchor=\"middle\" x=\"462.39\" y=\"-14.3\" font-family=\"Times,serif\" font-size=\"14.00\">c4 : b4, c3</text>\n</g>\n<!-- 5&#45;&gt;7 -->\n<g id=\"edge7\" class=\"edge\">\n<title>5&#45;&gt;7</title>\n<path fill=\"none\" stroke=\"black\" d=\"M384.82,-72.76C398.85,-63.04 416.84,-50.57 431.96,-40.09\"/>\n<polygon fill=\"black\" stroke=\"black\" points=\"434.25,-42.76 440.48,-34.19 430.27,-37.01 434.25,-42.76\"/>\n</g>\n</g>\n</svg>\n",
      "text/plain": [
       "<gtbook.display.show at 0x11c5bbc70>"
      ]
     },
     "execution_count": 8,
     "metadata": {},
     "output_type": "execute_result"
    }
   ],
   "source": [
    "nested = gtsam.Ordering.MetisGaussianFactorGraph(graph)\n",
    "nested_bayes_tree = graph.eliminateMultifrontal(nested)\n",
    "show(nested_bayes_tree)"
   ]
  },
  {
   "cell_type": "markdown",
   "metadata": {},
   "source": [
    "In this case, the structure of the Bayes tree reveals that (for M=3,N=4) the image is split into three regions that are separately solved.\n",
    "\n",
    "Unfortunately, the wrapper does not support easy visualization of the \"divide and conquer\" approach of nested dissection, but here is an ascii image showing the first \"cut\", dividing up the image into regions handled by the left, middle, and right branches, respectively:\n",
    "\n",
    "```\n",
    "  1 2 3 4\n",
    "  _______\n",
    "a|l l * r|\n",
    "b|* * r r|\n",
    "c|m m * r|\n",
    "```"
   ]
  },
  {
   "cell_type": "markdown",
   "id": "cd2d57b3",
   "metadata": {},
   "source": [
    "The MAP solution is obtained by back-substitution, and can be seen as a smoother version of the data:"
   ]
  },
  {
   "cell_type": "code",
   "execution_count": 9,
   "metadata": {},
   "outputs": [
    {
     "name": "stdout",
     "output_type": "stream",
     "text": [
      "data:\n",
      " [[ 0.15 -0.52  0.38  0.47]\n",
      " [-0.98 -0.65  0.06 -0.16]\n",
      " [-0.01 -0.43  0.44  0.39]]\n",
      "mean:\n",
      "[-0.16, -0.22, 0.09, 0.21]\n",
      "[-0.41, -0.3, 0.0, 0.06]\n",
      "[-0.21, -0.21, 0.11, 0.18]\n"
     ]
    }
   ],
   "source": [
    "mean = nested_bayes_tree.optimize()\n",
    "print(\"data:\\n\", np.round(data[:,:,0],2))\n",
    "print(\"mean:\")\n",
    "for row in range(M):\n",
    "    print([np.round(mean.at(keys[(row,col)]).item(),2) for col in range(N)])"
   ]
  },
  {
   "cell_type": "markdown",
   "id": "2e33aca3",
   "metadata": {},
   "source": [
    "And of course, now ancestral sampling can also be done in parallel (here in the Bayes net):"
   ]
  },
  {
   "cell_type": "code",
   "execution_count": 10,
   "id": "7e0f2cc5",
   "metadata": {},
   "outputs": [
    {
     "name": "stdout",
     "output_type": "stream",
     "text": [
      "[[-0.49 -0.02  0.13]] [[-0.1   0.21 -0.83]] [[ 0.49  0.04 -0.05]] [[ 0.43 -0.13 -0.16]]\n",
      "[[-0.37 -0.24 -0.86]] [[ 0.04 -0.39 -0.43]] [[0.25 0.08 0.42]] [[-0.06  0.31 -0.27]]\n",
      "[[-0.35  0.3  -0.5 ]] [[-0.22 -0.22 -0.45]] [[0.08 0.19 0.47]] [[ 0.09  0.66 -0.13]]\n"
     ]
    }
   ],
   "source": [
    "gbn = graph.eliminateSequential(nested)\n",
    "samples = sample_bayes_net(gbn, 3)\n",
    "for row in range(M):\n",
    "    print(\" \".join([str(np.round(samples[keys[(row,col)]],2)) for col in range(N)]))"
   ]
  },
  {
   "cell_type": "markdown",
   "metadata": {},
   "source": [
    "## Discussion\n",
    "\n",
    "Direct (multi-frontal) elimination), as shown above, works like a charm in Gaussian Markov random fields with arbitrary connectivity. However, this will *only* scale up to large graphs when small \"separators\" are to be found. In particular, in image applications, the smallest separator that can be found will always be the smallest image dimension, here $n=\\min(M,N)$, and hence the root clique of the Bayes tree will have that dimension as well. When images are large, this will be prohibitively expensive, as a dense $n \\times n$ matrix will have to be factorized, and we might need to resort to different methods. Still, $256\\times256$ images for example are well within reach for exact inference. \n",
    "\n",
    "In the next section we discuss loopy belief propagation and Gibbs sampling as alternatives."
   ]
  }
 ],
 "metadata": {
  "interpreter": {
   "hash": "9f7376ced4243bb13dfcffa8a3ba834e0602aa8334cd3a1d8ba8d285f4628083"
  },
  "kernelspec": {
   "display_name": "Python 3.8.12 ('gtbook')",
   "language": "python",
   "name": "python3"
  },
  "language_info": {
   "codemirror_mode": {
    "name": "ipython",
    "version": 3
   },
   "file_extension": ".py",
   "mimetype": "text/x-python",
   "name": "python",
   "nbconvert_exporter": "python",
   "pygments_lexer": "ipython3",
   "version": "3.8.12"
  },
  "orig_nbformat": 4
 },
 "nbformat": 4,
 "nbformat_minor": 2
}
