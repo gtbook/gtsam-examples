{
 "cells": [
  {
   "cell_type": "markdown",
   "id": "abdd4aba",
   "metadata": {},
   "source": [
    "<a href=\"https://colab.research.google.com/github/gtbook/gtsam-examples/blob/main/PlanarSLAMExample_gvi.ipynb\" target=\"_parent\"><img src=\"https://colab.research.google.com/assets/colab-badge.svg\" alt=\"Open In Colab\"/></a>"
   ]
  },
  {
   "cell_type": "markdown",
   "id": "23d8e5dc",
   "metadata": {},
   "source": [
    "# Variational Bayes Inference\n",
    "\n",
    "GTSAM is most-often used for posteriori (MAP) estimation, and with the `gtsam.Marginals` object we can get the Laplace approximation to the posterior density. As shown in a [2020 IJRR paper by Tim Barfoot et al](https://journals.sagepub.com/doi/abs/10.1177/0278364920937608), variational Bayes not only optimizes for the mean $\\mu$ but also for the covariance $\\Sigma$ of an approximation \n",
    "\n",
    "$$\n",
    "q(x) \\sim \\mathcal{N}(x;\\mu, \\Sigma).\n",
    "$$\n",
    "\n",
    "The key is that we need to take expectations of the factor log-likelihoods with respect to $q(x)$, and a simple way to do this is to *sample* from $q$. The recipe we follow below is then:\n",
    "\n",
    "- initialize $q(x)$ with MAP and Laplace approximation.\n",
    "- for a few times:\n",
    "  - sample from q\n",
    "  - create linearized factors using the q samples\n",
    "  - optimize this graph\n",
    "\n",
    "Note that we sample from $q$, not the true posterior, which would be much harder. In the version below, which uses ancestral sampling to create the expectations, we do not need the marginals of Q explicitly, even though we do compute them in various places to draw covariance ellipses for visualization purposes."
   ]
  },
  {
   "cell_type": "code",
   "execution_count": 1,
   "id": "b411e885",
   "metadata": {},
   "outputs": [
    {
     "name": "stdout",
     "output_type": "stream",
     "text": [
      "Note: you may need to restart the kernel to use updated packages.\n"
     ]
    }
   ],
   "source": [
    "%pip -q install gtbook # also installs latest gtsam pre-release"
   ]
  },
  {
   "cell_type": "code",
   "execution_count": 2,
   "id": "50de8e04",
   "metadata": {},
   "outputs": [],
   "source": [
    "import math\n",
    "from math import pi, sqrt\n",
    "import matplotlib.pyplot as plt\n",
    "import numpy as np\n",
    "\n",
    "import gtsam\n",
    "import gtsam.utils.plot as gtsam_plot\n",
    "from gtbook.display import show\n",
    "from gtbook.display import pretty\n",
    "from gtsam import Point2, Pose2, Rot2, noiseModel\n",
    "\n",
    "# Some keys we use below:\n",
    "x1, x2, x3 = [gtsam.symbol('x', i) for i in [1, 2, 3]]\n",
    "l1, l2 = [gtsam.symbol('l', j) for j in [1, 2]]"
   ]
  },
  {
   "cell_type": "markdown",
   "id": "ab9cecbf",
   "metadata": {},
   "source": [
    "## Ancestral Sampling\n",
    "\n",
    "To form the expectations for variational Bayes, we set up an efficient ancestral sampler for a Bayes net below.  This is not yet implemented inside GTSAM for the fully general case, but will be soon.   It returns a dictionary of samples in the *tangent space* of each variable manifold, at the ground truth values."
   ]
  },
  {
   "cell_type": "code",
   "execution_count": 3,
   "id": "e70330cc",
   "metadata": {},
   "outputs": [],
   "source": [
    "def sample_gaussian(bn: gtsam.GaussianBayesNet, N, delta: gtsam.VectorValues = None):\n",
    "    \"\"\" High performance ancestral sampling.\n",
    "        TODO: move to GTSAM, yet yield dict of samples as below\n",
    "    \"\"\"\n",
    "    sample = {}\n",
    "    for i in reversed(range(bn.size())):\n",
    "        # every node ~ exp(0.5*|R x + S p - d|^2)\n",
    "        # calculate mean as inv(R)*(d - S p)\n",
    "        node = bn.at(i)\n",
    "        d = node.d()\n",
    "        n = len(d)\n",
    "        rhs = d.reshape(n, 1)\n",
    "        key, *parents = node.keys()\n",
    "        if len(parents) > 0:\n",
    "            rhs = rhs - node.S() @ np.vstack([sample[p] for p in parents])\n",
    "        # sample from conditional Gaussian\n",
    "        invR = np.linalg.inv(node.R())\n",
    "        sample[key] = invR @ (rhs + np.random.normal(size=(n, N)))\n",
    "        if delta is not None:\n",
    "            sample[key] += delta.at(key).reshape(n,1)\n",
    "    return sample"
   ]
  },
  {
   "cell_type": "markdown",
   "id": "4b35b6dc",
   "metadata": {},
   "source": [
    "The above creates samples in the *tangent space*, which we then need to upgrade to the non-linear manifold:"
   ]
  },
  {
   "cell_type": "code",
   "execution_count": 4,
   "id": "d7e5eb18",
   "metadata": {},
   "outputs": [],
   "source": [
    "def perturb(tangent_samples:dict, values:gtsam.Values, s:int):\n",
    "    vv = gtsam.VectorValues()\n",
    "    for key in tangent_samples.keys():\n",
    "        vv.insert(key, tangent_samples[key][:, s])\n",
    "    return values.retract(vv)  # all variables updated"
   ]
  },
  {
   "cell_type": "markdown",
   "id": "7075e4ea",
   "metadata": {},
   "source": [
    "## A Simple Nonlinear Smoother Example\n",
    "\n",
    "With the preliminaries out of the way, let us illustrate/sanity-check the GVI scheme with a simple Nonlinear smoother, having only two between constraints on `Pose2` variables.\n",
    "\n",
    "We first create the `gtsam.NonlinearFactorGraph`:"
   ]
  },
  {
   "cell_type": "code",
   "execution_count": 5,
   "id": "8a3e738c",
   "metadata": {},
   "outputs": [
    {
     "data": {
      "image/svg+xml": "<?xml version=\"1.0\" encoding=\"UTF-8\" standalone=\"no\"?>\n<!DOCTYPE svg PUBLIC \"-//W3C//DTD SVG 1.1//EN\"\n \"http://www.w3.org/Graphics/SVG/1.1/DTD/svg11.dtd\">\n<!-- Generated by graphviz version 2.50.0 (0)\n -->\n<!-- Pages: 1 -->\n<svg width=\"350pt\" height=\"70pt\"\n viewBox=\"0.00 0.00 350.00 69.88\" xmlns=\"http://www.w3.org/2000/svg\" xmlns:xlink=\"http://www.w3.org/1999/xlink\">\n<g id=\"graph0\" class=\"graph\" transform=\"scale(1 1) rotate(0) translate(4 65.88)\">\n<polygon fill=\"white\" stroke=\"transparent\" points=\"-4,4 -4,-65.88 346,-65.88 346,4 -4,4\"/>\n<!-- varx1 -->\n<g id=\"node1\" class=\"node\">\n<title>varx1</title>\n<ellipse fill=\"none\" stroke=\"black\" cx=\"27\" cy=\"-18\" rx=\"27\" ry=\"18\"/>\n<text text-anchor=\"middle\" x=\"27\" y=\"-14.3\" font-family=\"Times,serif\" font-size=\"14.00\">x1</text>\n</g>\n<!-- varx2 -->\n<g id=\"node2\" class=\"node\">\n<title>varx2</title>\n<ellipse fill=\"none\" stroke=\"black\" cx=\"171\" cy=\"-18\" rx=\"27\" ry=\"18\"/>\n<text text-anchor=\"middle\" x=\"171\" y=\"-14.3\" font-family=\"Times,serif\" font-size=\"14.00\">x2</text>\n</g>\n<!-- varx1&#45;&#45;varx2 -->\n<g id=\"edge2\" class=\"edge\">\n<title>varx1&#45;&#45;varx2</title>\n<path fill=\"none\" stroke=\"black\" d=\"M54.09,-18C79.67,-18 117.84,-18 143.55,-18\"/>\n</g>\n<!-- factor0 -->\n<g id=\"node4\" class=\"node\">\n<title>factor0</title>\n<ellipse fill=\"black\" stroke=\"black\" cx=\"97.71\" cy=\"-60.08\" rx=\"1.8\" ry=\"1.8\"/>\n</g>\n<!-- varx1&#45;&#45;factor0 -->\n<g id=\"edge1\" class=\"edge\">\n<title>varx1&#45;&#45;factor0</title>\n<path fill=\"none\" stroke=\"black\" d=\"M47.45,-30.17C65.4,-40.85 89.62,-55.26 96.07,-59.11\"/>\n</g>\n<!-- varx3 -->\n<g id=\"node3\" class=\"node\">\n<title>varx3</title>\n<ellipse fill=\"none\" stroke=\"black\" cx=\"315\" cy=\"-18\" rx=\"27\" ry=\"18\"/>\n<text text-anchor=\"middle\" x=\"315\" y=\"-14.3\" font-family=\"Times,serif\" font-size=\"14.00\">x3</text>\n</g>\n<!-- varx2&#45;&#45;varx3 -->\n<g id=\"edge3\" class=\"edge\">\n<title>varx2&#45;&#45;varx3</title>\n<path fill=\"none\" stroke=\"black\" d=\"M198.09,-18C223.67,-18 261.84,-18 287.55,-18\"/>\n</g>\n</g>\n</svg>\n",
      "text/plain": [
       "<gtbook.display.show at 0x11c8f9850>"
      ]
     },
     "execution_count": 5,
     "metadata": {},
     "output_type": "execute_result"
    }
   ],
   "source": [
    "graph = gtsam.NonlinearFactorGraph()\n",
    "priorMean = Pose2(0.0, 0.0, 0.0)  # prior at origin\n",
    "priorNoise = noiseModel.Diagonal.Sigmas([0.1, 0.1, math.radians(1)])\n",
    "graph.add(gtsam.PriorFactorPose2(x1, priorMean, priorNoise))  # add directly to graph\n",
    "odometry = Pose2(2.0, 0.0, 0.0)\n",
    "odometryNoise = noiseModel.Diagonal.Sigmas([0.5, 0.2, math.radians(2)])\n",
    "graph.add(gtsam.BetweenFactorPose2(x1, x2, odometry, odometryNoise))\n",
    "graph.add(gtsam.BetweenFactorPose2(x2, x3, odometry, odometryNoise))\n",
    "\n",
    "# Values with ground truth\n",
    "truth = gtsam.Values()\n",
    "truth.insert(x1, Pose2(0, 0, 0))\n",
    "truth.insert(x2, Pose2(2, 0, 0))\n",
    "truth.insert(x3, Pose2(4, 0, 0))\n",
    "\n",
    "show(graph, truth, binary_edges=True)\n"
   ]
  },
  {
   "cell_type": "markdown",
   "id": "e6cdfa08",
   "metadata": {},
   "source": [
    "As always, we can calculate and plot covariance ellipses which show the Laplace approximation graphically."
   ]
  },
  {
   "cell_type": "code",
   "execution_count": 6,
   "id": "6b67d243",
   "metadata": {},
   "outputs": [
    {
     "data": {
      "image/png": "[encoded data removed]",
      "text/plain": [
       "<Figure size 960x560 with 1 Axes>"
      ]
     },
     "metadata": {
      "needs_background": "light"
     },
     "output_type": "display_data"
    }
   ],
   "source": [
    "marginals = gtsam.Marginals(graph, truth)\n",
    "def make_figure():\n",
    "    plt.figure(0, figsize=(12, 7), dpi=80)\n",
    "    for key in [x1, x2, x3]:\n",
    "        gtsam_plot.plot_pose2(0, truth.atPose2(key), 0.5,\n",
    "                            marginals.marginalCovariance(key))\n",
    "\n",
    "    plt.axis('equal')\n",
    "\n",
    "make_figure()"
   ]
  },
  {
   "cell_type": "markdown",
   "id": "91826d0f",
   "metadata": {},
   "source": [
    "We can also inspect the actual information matrix and covariance matrix, to ascertain sparsity:"
   ]
  },
  {
   "cell_type": "code",
   "execution_count": 7,
   "id": "79566305",
   "metadata": {},
   "outputs": [
    {
     "data": {
      "text/html": [
       "<div>\n",
       "<table class='VectorValues'>\n",
       "  <thead>\n",
       "    <tr><th>Variable</th><th>value</th></tr>\n",
       "  </thead>\n",
       "  <tbody>\n",
       "    <tr><th>x1</th><td>0 0 0</td></tr>\n",
       "    <tr><th>x2</th><td>0 0 0</td></tr>\n",
       "    <tr><th>x3</th><td>0 0 0</td></tr>\n",
       "  </tbody>\n",
       "</table>\n",
       "</div>"
      ],
      "text/plain": [
       "VectorValues: 3 elements\n",
       "  x1: 0 0 0\n",
       "  x2: 0 0 0\n",
       "  x3: 0 0 0"
      ]
     },
     "metadata": {},
     "output_type": "display_data"
    },
    {
     "name": "stdout",
     "output_type": "stream",
     "text": [
      "Q sparsity:\n",
      "[[1 0 0 0 0 0 0 0 0]\n",
      " [0 1 1 0 0 0 0 0 0]\n",
      " [0 1 1 0 0 0 0 0 0]\n",
      " [0 0 0 1 0 0 0 0 0]\n",
      " [0 0 0 0 1 1 0 0 0]\n",
      " [0 0 0 0 1 1 0 0 0]\n",
      " [0 0 0 0 0 0 1 0 0]\n",
      " [0 0 0 0 0 0 0 1 0]\n",
      " [0 0 0 0 0 0 0 0 1]]\n",
      "P:\n",
      "[[ 0.01   0.     0.     0.01   0.     0.     0.01   0.     0.   ]\n",
      " [ 0.     0.01   0.     0.     0.01  -0.     0.     0.01  -0.   ]\n",
      " [ 0.    -0.     0.     0.     0.001  0.     0.     0.001  0.   ]\n",
      " [ 0.01   0.     0.     0.26   0.     0.     0.26   0.     0.   ]\n",
      " [ 0.     0.01   0.001  0.     0.051  0.001  0.     0.052  0.001]\n",
      " [ 0.    -0.     0.     0.     0.001  0.002  0.     0.004  0.002]\n",
      " [ 0.01   0.     0.     0.26   0.     0.     0.51   0.     0.   ]\n",
      " [-0.     0.01   0.001 -0.     0.052  0.004 -0.     0.1    0.004]\n",
      " [ 0.    -0.     0.     0.     0.001  0.002  0.     0.004  0.003]]\n"
     ]
    }
   ],
   "source": [
    "def printPQ(bayes_net: gtsam.GaussianBayesNet, N:int=1):\n",
    "    \"\"\"Print mean, Hessian, and covariance, possibly with correction factor N\"\"\"\n",
    "    R, d = bayes_net.matrix()\n",
    "    Q = (R.T @ R)/N  # Hessian/Information matrix\n",
    "    display(bayes_net.optimize())\n",
    "    print(f\"Q sparsity:\\n{(Q>1e-9).astype(int)}\")\n",
    "    print(f\"P:\\n{np.round(np.linalg.inv(Q),3)}\")\n",
    "\n",
    "printPQ(graph.linearize(truth).eliminateSequential())"
   ]
  },
  {
   "cell_type": "markdown",
   "id": "7075e4ea",
   "metadata": {},
   "source": [
    "## Variational Bayes\n",
    "\n",
    "The code below then uses this sampler to create samples on the product manifold, each sample yielding linearized factors at the sample, yielding a new Gaussian factor graph which has $N$ times as many factors. We then optimize that graph and iterate:"
   ]
  },
  {
   "cell_type": "code",
   "execution_count": 8,
   "id": "5aefae16",
   "metadata": {},
   "outputs": [
    {
     "name": "stdout",
     "output_type": "stream",
     "text": [
      "it 1, norm of delta: 0.0154\n",
      "it 2, norm of delta: 0.0130\n",
      "it 3, norm of delta: 0.0109\n",
      "it 4, norm of delta: 0.0056\n",
      "it 5, norm of delta: 0.0020\n"
     ]
    },
    {
     "data": {
      "image/png": "[encoded data removed]",
      "text/plain": [
       "<Figure size 960x560 with 1 Axes>"
      ]
     },
     "metadata": {
      "needs_background": "light"
     },
     "output_type": "display_data"
    }
   ],
   "source": [
    "N = 1000\n",
    "\n",
    "# Start with ground truth\n",
    "values = gtsam.Values()\n",
    "values.insert(x1, Pose2(0, 0, 0))\n",
    "values.insert(x2, Pose2(2, 0, 0))\n",
    "values.insert(x3, Pose2(4, 0, 0))\n",
    "\n",
    "big_graph = graph.linearize(values)  # first time it's small!\n",
    "bayes_net = big_graph.eliminateSequential()\n",
    "delta = bayes_net.optimize()\n",
    "\n",
    "make_figure()\n",
    "\n",
    "for it in range(5):\n",
    "    # Use the Bayes net to sample from q:\n",
    "    # KEY STEP: subtract delta from Gaussian samples as we moved to new tangent space\n",
    "    tangent_samples = sample_gaussian(bayes_net, N, delta.scale(-1))\n",
    "    manifold_samples = [perturb(tangent_samples, values, s) for s in range(N)]\n",
    "\n",
    "    # Add new linearized factors for every sample:\n",
    "    big_graph = gtsam.GaussianFactorGraph()\n",
    "    for manifold_sample in manifold_samples:\n",
    "        # KEY STEP: factors are duplicated, linearized at manifold_sample\n",
    "        # TODO: *technically* these are at different tangent spaces\n",
    "        sample_graph = graph.linearize(manifold_sample)\n",
    "        big_graph.push_back(sample_graph)\n",
    "\n",
    "    # Solve by calculating Bayes net and solve.\n",
    "    # KEY STEP: this forms all Barfoot's expected quantities\n",
    "    bayes_net = big_graph.eliminateSequential()\n",
    "    delta = bayes_net.optimize()\n",
    "    print(f\"it {it+1}, norm of delta: {np.linalg.norm(delta.vector()):0.4f}\")\n",
    "    # display(delta)\n",
    "    # printPQ(bayes_net)\n",
    "\n",
    "    # update non-linear estimate\n",
    "    values = values.retract(delta)\n",
    "    for key in [x1, x2, x3]:\n",
    "        gtsam_plot.plot_pose2(0, values.atPose2(key), 0.5)\n",
    "\n",
    "# show new covariances\n",
    "new_marginals = gtsam.Marginals(big_graph, values)\n",
    "for key in [x1, x2, x3]:\n",
    "    gtsam_plot.plot_pose2(0, values.atPose2(key), 0.5,\n",
    "                          N*new_marginals.marginalCovariance(key))"
   ]
  },
  {
   "cell_type": "markdown",
   "id": "9107c3f8",
   "metadata": {},
   "source": [
    "This is not converging."
   ]
  },
  {
   "cell_type": "markdown",
   "id": "97b18d1e",
   "metadata": {},
   "source": [
    "## Setting up a non-linear SLAM Example\n",
    "\n",
    "Below we re-create a similar factor graph as in `PlanarSLAMExample`, but with highly nonlinear measurements on the landmarks. Take a look at the sampling example to appreciate how non-Gaussian the posteriors are in this example."
   ]
  },
  {
   "cell_type": "code",
   "execution_count": 9,
   "id": "8a3e738c",
   "metadata": {},
   "outputs": [
    {
     "data": {
      "image/svg+xml": "<?xml version=\"1.0\" encoding=\"UTF-8\" standalone=\"no\"?>\n<!DOCTYPE svg PUBLIC \"-//W3C//DTD SVG 1.1//EN\"\n \"http://www.w3.org/Graphics/SVG/1.1/DTD/svg11.dtd\">\n<!-- Generated by graphviz version 2.50.0 (0)\n -->\n<!-- Pages: 1 -->\n<svg width=\"350pt\" height=\"188pt\"\n viewBox=\"0.00 0.00 350.00 188.00\" xmlns=\"http://www.w3.org/2000/svg\" xmlns:xlink=\"http://www.w3.org/1999/xlink\">\n<g id=\"graph0\" class=\"graph\" transform=\"scale(1 1) rotate(0) translate(4 184)\">\n<polygon fill=\"white\" stroke=\"transparent\" points=\"-4,4 -4,-184 346,-184 346,4 -4,4\"/>\n<!-- varl1 -->\n<g id=\"node1\" class=\"node\">\n<title>varl1</title>\n<ellipse fill=\"none\" stroke=\"black\" cx=\"171\" cy=\"-162\" rx=\"27\" ry=\"18\"/>\n<text text-anchor=\"middle\" x=\"171\" y=\"-158.3\" font-family=\"Times,serif\" font-size=\"14.00\">l1</text>\n</g>\n<!-- varl2 -->\n<g id=\"node2\" class=\"node\">\n<title>varl2</title>\n<ellipse fill=\"none\" stroke=\"black\" cx=\"315\" cy=\"-162\" rx=\"27\" ry=\"18\"/>\n<text text-anchor=\"middle\" x=\"315\" y=\"-158.3\" font-family=\"Times,serif\" font-size=\"14.00\">l2</text>\n</g>\n<!-- varx1 -->\n<g id=\"node3\" class=\"node\">\n<title>varx1</title>\n<ellipse fill=\"none\" stroke=\"black\" cx=\"27\" cy=\"-18\" rx=\"27\" ry=\"18\"/>\n<text text-anchor=\"middle\" x=\"27\" y=\"-14.3\" font-family=\"Times,serif\" font-size=\"14.00\">x1</text>\n</g>\n<!-- varx1&#45;&#45;varl1 -->\n<g id=\"edge4\" class=\"edge\">\n<title>varx1&#45;&#45;varl1</title>\n<path fill=\"none\" stroke=\"black\" d=\"M42.14,-33.14C69.72,-60.72 127.88,-118.88 155.63,-146.63\"/>\n</g>\n<!-- varx2 -->\n<g id=\"node4\" class=\"node\">\n<title>varx2</title>\n<ellipse fill=\"none\" stroke=\"black\" cx=\"171\" cy=\"-18\" rx=\"27\" ry=\"18\"/>\n<text text-anchor=\"middle\" x=\"171\" y=\"-14.3\" font-family=\"Times,serif\" font-size=\"14.00\">x2</text>\n</g>\n<!-- varx1&#45;&#45;varx2 -->\n<g id=\"edge2\" class=\"edge\">\n<title>varx1&#45;&#45;varx2</title>\n<path fill=\"none\" stroke=\"black\" d=\"M54.09,-18C79.67,-18 117.84,-18 143.55,-18\"/>\n</g>\n<!-- factor0 -->\n<g id=\"node6\" class=\"node\">\n<title>factor0</title>\n<ellipse fill=\"black\" stroke=\"black\" cx=\"104.09\" cy=\"-80.01\" rx=\"1.8\" ry=\"1.8\"/>\n</g>\n<!-- varx1&#45;&#45;factor0 -->\n<g id=\"edge1\" class=\"edge\">\n<title>varx1&#45;&#45;factor0</title>\n<path fill=\"none\" stroke=\"black\" d=\"M44.49,-32.07C64.4,-48.08 95.1,-72.77 102.47,-78.7\"/>\n</g>\n<!-- varx2&#45;&#45;varl1 -->\n<g id=\"edge5\" class=\"edge\">\n<title>varx2&#45;&#45;varl1</title>\n<path fill=\"none\" stroke=\"black\" d=\"M171,-36.24C171,-63.94 171,-116.3 171,-143.91\"/>\n</g>\n<!-- varx3 -->\n<g id=\"node5\" class=\"node\">\n<title>varx3</title>\n<ellipse fill=\"none\" stroke=\"black\" cx=\"315\" cy=\"-18\" rx=\"27\" ry=\"18\"/>\n<text text-anchor=\"middle\" x=\"315\" y=\"-14.3\" font-family=\"Times,serif\" font-size=\"14.00\">x3</text>\n</g>\n<!-- varx2&#45;&#45;varx3 -->\n<g id=\"edge3\" class=\"edge\">\n<title>varx2&#45;&#45;varx3</title>\n<path fill=\"none\" stroke=\"black\" d=\"M198.09,-18C223.67,-18 261.84,-18 287.55,-18\"/>\n</g>\n<!-- varx3&#45;&#45;varl2 -->\n<g id=\"edge6\" class=\"edge\">\n<title>varx3&#45;&#45;varl2</title>\n<path fill=\"none\" stroke=\"black\" d=\"M315,-36.24C315,-63.94 315,-116.3 315,-143.91\"/>\n</g>\n</g>\n</svg>\n",
      "text/plain": [
       "<gtbook.display.show at 0x11cc64bb0>"
      ]
     },
     "execution_count": 9,
     "metadata": {},
     "output_type": "execute_result"
    }
   ],
   "source": [
    "graph = gtsam.NonlinearFactorGraph()\n",
    "priorMean = Pose2(0.0, 0.0, 0.0)  # prior at origin\n",
    "priorNoise = noiseModel.Diagonal.Sigmas([0.01, 0.01, math.radians(1)])\n",
    "graph.add(gtsam.PriorFactorPose2(x1, priorMean, priorNoise))  # add directly to graph\n",
    "odometry = Pose2(2.0, 0.0, 0.0)\n",
    "odometryNoise = noiseModel.Diagonal.Sigmas([0.05, 0.02, math.radians(2)])\n",
    "graph.add(gtsam.BetweenFactorPose2(x1, x2, odometry, odometryNoise))\n",
    "graph.add(gtsam.BetweenFactorPose2(x2, x3, odometry, odometryNoise))\n",
    "\n",
    "# Except, we use bearing only measurements for l1\n",
    "bearingModel = noiseModel.Diagonal.Sigmas([0.1])\n",
    "graph.add(gtsam.BearingFactor2D(x1, l1, Rot2(math.radians(45)), bearingModel))\n",
    "graph.add(gtsam.BearingFactor2D(x2, l1, Rot2(math.radians(90)), bearingModel))\n",
    "\n",
    "brNoise = noiseModel.Diagonal.Sigmas([math.radians(25), 0.1])\n",
    "graph.add(gtsam.BearingRangeFactor2D(x3, l2, Rot2(math.radians(90)), 2, brNoise))\n",
    "\n",
    "# Values with ground truth\n",
    "truth = gtsam.Values()\n",
    "truth.insert(x1, Pose2(0, 0, 0))\n",
    "truth.insert(x2, Pose2(2, 0, 0))\n",
    "truth.insert(x3, Pose2(4, 0, 0))\n",
    "truth.insert(l1, Point2(2, 2))\n",
    "truth.insert(l2, Point2(4, 2))\n",
    "\n",
    "show(graph, truth, binary_edges=True)\n"
   ]
  },
  {
   "cell_type": "markdown",
   "id": "e6cdfa08",
   "metadata": {},
   "source": [
    "As always, we can calculate and plot covariance ellipses which show the Laplace approximation graphically."
   ]
  },
  {
   "cell_type": "code",
   "execution_count": 10,
   "id": "6b67d243",
   "metadata": {},
   "outputs": [
    {
     "data": {
      "image/png": "[encoded data removed]",
      "text/plain": [
       "<Figure size 960x560 with 1 Axes>"
      ]
     },
     "metadata": {
      "needs_background": "light"
     },
     "output_type": "display_data"
    }
   ],
   "source": [
    "marginals = gtsam.Marginals(graph, truth)\n",
    "def make_figure():\n",
    "    plt.figure(0, figsize=(12, 7), dpi=80)\n",
    "    for key in [x1, x2, x3]:\n",
    "        gtsam_plot.plot_pose2(0, truth.atPose2(key), 0.5,\n",
    "                            marginals.marginalCovariance(key))\n",
    "    for key in [l1, l2]:\n",
    "        gtsam_plot.plot_point2(0, truth.atPoint2(key), 0.5,\n",
    "                            marginals.marginalCovariance(key))\n",
    "\n",
    "    plt.axis('equal')\n",
    "    plt.xlim([-0.8, 6])\n",
    "    plt.ylim([-0.8, 3])\n",
    "\n",
    "make_figure()"
   ]
  },
  {
   "cell_type": "markdown",
   "id": "7075e4ea",
   "metadata": {},
   "source": [
    "## Variational Bayes\n",
    "\n",
    "The code below then uses this sampler to create samples on the product manifold, each sample yielding linearized factors at the sample, yielding a new Gaussian factor graph which has $N$ times as many factors. We then optimize that graph and iterate:"
   ]
  },
  {
   "cell_type": "code",
   "execution_count": 11,
   "id": "5aefae16",
   "metadata": {},
   "outputs": [
    {
     "name": "stdout",
     "output_type": "stream",
     "text": [
      "it 1, norm of delta: 0.1764\n",
      "it 2, norm of delta: 0.1479\n",
      "it 3, norm of delta: 0.1181\n",
      "it 4, norm of delta: 0.1122\n",
      "it 5, norm of delta: 0.0678\n",
      "it 6, norm of delta: 0.0954\n",
      "it 7, norm of delta: 0.0470\n",
      "it 8, norm of delta: 0.0147\n",
      "it 9, norm of delta: 0.0148\n",
      "it 10, norm of delta: 0.0113\n"
     ]
    },
    {
     "data": {
      "image/png": "[encoded data removed]",
      "text/plain": [
       "<Figure size 960x560 with 1 Axes>"
      ]
     },
     "metadata": {
      "needs_background": "light"
     },
     "output_type": "display_data"
    }
   ],
   "source": [
    "N = 1000\n",
    "\n",
    "# Start with ground truth\n",
    "values = gtsam.Values()\n",
    "values.insert(x1, Pose2(0, 0, 0))\n",
    "values.insert(x2, Pose2(2, 0, 0))\n",
    "values.insert(x3, Pose2(4, 0, 0))\n",
    "values.insert(l1, Point2(2, 2))\n",
    "values.insert(l2, Point2(4, 2))\n",
    "\n",
    "big_graph = graph.linearize(values)  # first time it's small!\n",
    "bayes_net = big_graph.eliminateSequential()\n",
    "delta = bayes_net.optimize()\n",
    "\n",
    "make_figure()\n",
    "evolution = {x1: [gtsam.Point2(0, 0)], x2: [gtsam.Point2(2, 0)], x3: [\n",
    "    gtsam.Point2(4, 0)], l1: [gtsam.Point2(2, 2)], l2: [gtsam.Point2(4, 2)]}\n",
    "\n",
    "for it in range(10):\n",
    "    # Use the Bayes net to sample from q:\n",
    "    tangent_samples = sample_gaussian(bayes_net, N, delta.scale(-1))\n",
    "    manifold_samples = [perturb(tangent_samples, values, s) for s in range(N)]\n",
    "\n",
    "    # Add new linearized factors for every sample:\n",
    "    big_graph = gtsam.GaussianFactorGraph()\n",
    "    for manifold_sample in manifold_samples:\n",
    "        sample_graph = graph.linearize(manifold_sample)\n",
    "        big_graph.push_back(sample_graph)\n",
    "\n",
    "    # # Add Levenberg-Marquardt-style prior on delta\n",
    "    if True:\n",
    "        _lambda = 0.01\n",
    "        for key in [x1, x2, x3]:\n",
    "            big_graph.add(gtsam.JacobianFactor(key, np.eye(3), np.zeros((3,)), \n",
    "                noiseModel.Isotropic.Sigma(3, _lambda)))\n",
    "        for key in [l1, l2]:\n",
    "            big_graph.add(gtsam.JacobianFactor(key, np.eye(2), np.zeros((2,)), \n",
    "                noiseModel.Isotropic.Sigma(2, _lambda)))\n",
    "\n",
    "    # Solve by calculating Bayes net and solving:\n",
    "    bayes_net = big_graph.eliminateSequential()\n",
    "    delta = bayes_net.optimize()\n",
    "    print(f\"it {it+1}, norm of delta: {np.linalg.norm(delta.vector()):.4f}\")\n",
    "    # display(delta)\n",
    "    # printPQ(bayes_net)\n",
    "\n",
    "    # update non-linear estimate\n",
    "    values = values.retract(delta)\n",
    "\n",
    "    # Record evolution\n",
    "    iterate = values.retract(delta)\n",
    "    for key in [x1, x2, x3]:\n",
    "        evolution[key].append(iterate.atPose2(key).translation())\n",
    "    for key in [l1, l2]:\n",
    "        evolution[key].append(iterate.atPoint2(key))\n",
    "\n",
    "# show evolution:\n",
    "for key in [x1, x2, x3, l1, l2]:\n",
    "    points = np.array(evolution[key]).T\n",
    "    plt.plot(points[0], points[1])\n",
    "\n",
    "# update non-linear estimate\n",
    "final = values.retract(delta)\n",
    "\n",
    "# show new covariances\n",
    "new_marginals = gtsam.Marginals(big_graph, final)\n",
    "for key in [x1, x2, x3]:\n",
    "    gtsam_plot.plot_pose2(0, final.atPose2(key), 0.5,\n",
    "                        N*new_marginals.marginalCovariance(key))\n",
    "for key in [l1, l2]:\n",
    "    gtsam_plot.plot_point2(0, final.atPoint2(key), 0.5,\n",
    "                        N*new_marginals.marginalCovariance(key))\n",
    "\n",
    "plt.show()\n"
   ]
  },
  {
   "cell_type": "code",
   "execution_count": null,
   "id": "664286f9",
   "metadata": {},
   "outputs": [],
   "source": []
  }
 ],
 "metadata": {
  "interpreter": {
   "hash": "eb6fa735d46fb17535ab2fae1363b5f0bf3cf0002d8c03a0f1f784c03cf9acc5"
  },
  "kernelspec": {
   "display_name": "Python 3.8.12 ('nbdev')",
   "language": "python",
   "name": "python3"
  },
  "language_info": {
   "codemirror_mode": {
    "name": "ipython",
    "version": 3
   },
   "file_extension": ".py",
   "mimetype": "text/x-python",
   "name": "python",
   "nbconvert_exporter": "python",
   "pygments_lexer": "ipython3",
   "version": "3.8.12"
  }
 },
 "nbformat": 4,
 "nbformat_minor": 5
}
